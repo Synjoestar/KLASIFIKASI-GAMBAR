{
  "cells": [
    {
      "cell_type": "markdown",
      "metadata": {
        "id": "H9wADwK78DCz"
      },
      "source": [
        "# Proyek Klasifikasi Gambar: [Food11]\n",
        "- **Nama:** Surya Yusuf Nugroho\n",
        "- **Email:** suryanugroho042@gmail.com\n",
        "- **ID Dicoding:** suryayyyyy"
      ]
    },
    {
      "cell_type": "markdown",
      "metadata": {
        "id": "H-z4QGlO8DC1"
      },
      "source": [
        "## Import Semua Packages/Library yang Digunakan"
      ]
    },
    {
      "cell_type": "code",
      "execution_count": 2,
      "metadata": {
        "id": "FVYwaObI8DC1",
        "colab": {
          "base_uri": "https://localhost:8080/"
        },
        "outputId": "f1228a02-7485-4a57-96ed-bb9b2c41b94e"
      },
      "outputs": [
        {
          "output_type": "stream",
          "name": "stderr",
          "text": [
            "/usr/local/lib/python3.11/dist-packages/albumentations/__init__.py:28: UserWarning: A new version of Albumentations is available: '2.0.5' (you have '2.0.4'). Upgrade using: pip install -U albumentations. To disable automatic update checks, set the environment variable NO_ALBUMENTATIONS_UPDATE to 1.\n",
            "  check_for_updates()\n"
          ]
        }
      ],
      "source": [
        "import os, shutil\n",
        "import zipfile\n",
        "import random\n",
        "from random import sample\n",
        "import shutil\n",
        "from shutil import copyfile\n",
        "import pathlib\n",
        "from pathlib import Path\n",
        "import numpy as np\n",
        "import pandas as pd\n",
        "from tqdm.notebook import tqdm as tq\n",
        "import matplotlib.image as mpimg\n",
        "import matplotlib.pyplot as plt\n",
        "import seaborn as sns\n",
        "from matplotlib.image import imread\n",
        "import cv2\n",
        "from PIL import Image\n",
        "import skimage\n",
        "from skimage import io\n",
        "from skimage.transform import resize\n",
        "from skimage.transform import rotate, AffineTransform, warp\n",
        "from skimage import img_as_ubyte\n",
        "from skimage.exposure import adjust_gamma\n",
        "from skimage.util import random_noise\n",
        "import keras\n",
        "from sklearn.model_selection import train_test_split\n",
        "from sklearn.metrics import confusion_matrix, classification_report\n",
        "import tensorflow as tf\n",
        "from tensorflow.keras import Model, layers\n",
        "from tensorflow.keras.preprocessing import image\n",
        "from tensorflow.keras.preprocessing.image import ImageDataGenerator, img_to_array, load_img\n",
        "from tensorflow.keras.optimizers import Adam, RMSprop, SGD\n",
        "from tensorflow.keras.layers import InputLayer, Conv2D, SeparableConv2D, MaxPooling2D, MaxPool2D, Dense, Flatten, Dropout, BatchNormalization, Input\n",
        "from tensorflow.keras.models import Sequential, Model\n",
        "from tensorflow.keras.applications import ResNet50, MobileNetV2\n",
        "from tensorflow.keras.applications.densenet import DenseNet121\n",
        "from tensorflow.keras.utils import to_categorical\n",
        "from tensorflow.keras.callbacks import ModelCheckpoint, Callback, EarlyStopping, ReduceLROnPlateau\n",
        "from tensorflow.keras.layers import GlobalAveragePooling2D\n",
        "from google.colab import drive\n",
        "from google.colab import files\n",
        "import PIL\n",
        "import albumentations as A\n",
        "from tensorflow.keras.preprocessing.image import array_to_img\n",
        "from tensorflow.keras.layers import Reshape\n",
        "from tensorflow.keras.models import load_model\n",
        "import tensorflow.lite as tflite"
      ]
    },
    {
      "cell_type": "code",
      "source": [
        "# Mencetak versi TensorFlow yang sedang digunakan\n",
        "print(tf.__version__)"
      ],
      "metadata": {
        "colab": {
          "base_uri": "https://localhost:8080/"
        },
        "id": "MJ_rzr-OJnI_",
        "outputId": "79a5cbfa-a16a-485e-8fc9-b18a3c20c985"
      },
      "execution_count": 2,
      "outputs": [
        {
          "output_type": "stream",
          "name": "stdout",
          "text": [
            "2.18.0\n"
          ]
        }
      ]
    },
    {
      "cell_type": "markdown",
      "metadata": {
        "id": "TK4DvqfbYrN8"
      },
      "source": [
        "## Data Preparation"
      ]
    },
    {
      "cell_type": "markdown",
      "metadata": {
        "id": "HHekw29KX4XQ"
      },
      "source": [
        "### Data Loading"
      ]
    },
    {
      "cell_type": "code",
      "source": [
        "files.upload()"
      ],
      "metadata": {
        "colab": {
          "base_uri": "https://localhost:8080/",
          "height": 90
        },
        "id": "6-b_e-e3FmHl",
        "outputId": "f90017f2-b355-4f75-8339-e32f1d215924"
      },
      "execution_count": 3,
      "outputs": [
        {
          "output_type": "display_data",
          "data": {
            "text/plain": [
              "<IPython.core.display.HTML object>"
            ],
            "text/html": [
              "\n",
              "     <input type=\"file\" id=\"files-aa63c5dd-a031-4d1e-9cab-d8000dbc118c\" name=\"files[]\" multiple disabled\n",
              "        style=\"border:none\" />\n",
              "     <output id=\"result-aa63c5dd-a031-4d1e-9cab-d8000dbc118c\">\n",
              "      Upload widget is only available when the cell has been executed in the\n",
              "      current browser session. Please rerun this cell to enable.\n",
              "      </output>\n",
              "      <script>// Copyright 2017 Google LLC\n",
              "//\n",
              "// Licensed under the Apache License, Version 2.0 (the \"License\");\n",
              "// you may not use this file except in compliance with the License.\n",
              "// You may obtain a copy of the License at\n",
              "//\n",
              "//      http://www.apache.org/licenses/LICENSE-2.0\n",
              "//\n",
              "// Unless required by applicable law or agreed to in writing, software\n",
              "// distributed under the License is distributed on an \"AS IS\" BASIS,\n",
              "// WITHOUT WARRANTIES OR CONDITIONS OF ANY KIND, either express or implied.\n",
              "// See the License for the specific language governing permissions and\n",
              "// limitations under the License.\n",
              "\n",
              "/**\n",
              " * @fileoverview Helpers for google.colab Python module.\n",
              " */\n",
              "(function(scope) {\n",
              "function span(text, styleAttributes = {}) {\n",
              "  const element = document.createElement('span');\n",
              "  element.textContent = text;\n",
              "  for (const key of Object.keys(styleAttributes)) {\n",
              "    element.style[key] = styleAttributes[key];\n",
              "  }\n",
              "  return element;\n",
              "}\n",
              "\n",
              "// Max number of bytes which will be uploaded at a time.\n",
              "const MAX_PAYLOAD_SIZE = 100 * 1024;\n",
              "\n",
              "function _uploadFiles(inputId, outputId) {\n",
              "  const steps = uploadFilesStep(inputId, outputId);\n",
              "  const outputElement = document.getElementById(outputId);\n",
              "  // Cache steps on the outputElement to make it available for the next call\n",
              "  // to uploadFilesContinue from Python.\n",
              "  outputElement.steps = steps;\n",
              "\n",
              "  return _uploadFilesContinue(outputId);\n",
              "}\n",
              "\n",
              "// This is roughly an async generator (not supported in the browser yet),\n",
              "// where there are multiple asynchronous steps and the Python side is going\n",
              "// to poll for completion of each step.\n",
              "// This uses a Promise to block the python side on completion of each step,\n",
              "// then passes the result of the previous step as the input to the next step.\n",
              "function _uploadFilesContinue(outputId) {\n",
              "  const outputElement = document.getElementById(outputId);\n",
              "  const steps = outputElement.steps;\n",
              "\n",
              "  const next = steps.next(outputElement.lastPromiseValue);\n",
              "  return Promise.resolve(next.value.promise).then((value) => {\n",
              "    // Cache the last promise value to make it available to the next\n",
              "    // step of the generator.\n",
              "    outputElement.lastPromiseValue = value;\n",
              "    return next.value.response;\n",
              "  });\n",
              "}\n",
              "\n",
              "/**\n",
              " * Generator function which is called between each async step of the upload\n",
              " * process.\n",
              " * @param {string} inputId Element ID of the input file picker element.\n",
              " * @param {string} outputId Element ID of the output display.\n",
              " * @return {!Iterable<!Object>} Iterable of next steps.\n",
              " */\n",
              "function* uploadFilesStep(inputId, outputId) {\n",
              "  const inputElement = document.getElementById(inputId);\n",
              "  inputElement.disabled = false;\n",
              "\n",
              "  const outputElement = document.getElementById(outputId);\n",
              "  outputElement.innerHTML = '';\n",
              "\n",
              "  const pickedPromise = new Promise((resolve) => {\n",
              "    inputElement.addEventListener('change', (e) => {\n",
              "      resolve(e.target.files);\n",
              "    });\n",
              "  });\n",
              "\n",
              "  const cancel = document.createElement('button');\n",
              "  inputElement.parentElement.appendChild(cancel);\n",
              "  cancel.textContent = 'Cancel upload';\n",
              "  const cancelPromise = new Promise((resolve) => {\n",
              "    cancel.onclick = () => {\n",
              "      resolve(null);\n",
              "    };\n",
              "  });\n",
              "\n",
              "  // Wait for the user to pick the files.\n",
              "  const files = yield {\n",
              "    promise: Promise.race([pickedPromise, cancelPromise]),\n",
              "    response: {\n",
              "      action: 'starting',\n",
              "    }\n",
              "  };\n",
              "\n",
              "  cancel.remove();\n",
              "\n",
              "  // Disable the input element since further picks are not allowed.\n",
              "  inputElement.disabled = true;\n",
              "\n",
              "  if (!files) {\n",
              "    return {\n",
              "      response: {\n",
              "        action: 'complete',\n",
              "      }\n",
              "    };\n",
              "  }\n",
              "\n",
              "  for (const file of files) {\n",
              "    const li = document.createElement('li');\n",
              "    li.append(span(file.name, {fontWeight: 'bold'}));\n",
              "    li.append(span(\n",
              "        `(${file.type || 'n/a'}) - ${file.size} bytes, ` +\n",
              "        `last modified: ${\n",
              "            file.lastModifiedDate ? file.lastModifiedDate.toLocaleDateString() :\n",
              "                                    'n/a'} - `));\n",
              "    const percent = span('0% done');\n",
              "    li.appendChild(percent);\n",
              "\n",
              "    outputElement.appendChild(li);\n",
              "\n",
              "    const fileDataPromise = new Promise((resolve) => {\n",
              "      const reader = new FileReader();\n",
              "      reader.onload = (e) => {\n",
              "        resolve(e.target.result);\n",
              "      };\n",
              "      reader.readAsArrayBuffer(file);\n",
              "    });\n",
              "    // Wait for the data to be ready.\n",
              "    let fileData = yield {\n",
              "      promise: fileDataPromise,\n",
              "      response: {\n",
              "        action: 'continue',\n",
              "      }\n",
              "    };\n",
              "\n",
              "    // Use a chunked sending to avoid message size limits. See b/62115660.\n",
              "    let position = 0;\n",
              "    do {\n",
              "      const length = Math.min(fileData.byteLength - position, MAX_PAYLOAD_SIZE);\n",
              "      const chunk = new Uint8Array(fileData, position, length);\n",
              "      position += length;\n",
              "\n",
              "      const base64 = btoa(String.fromCharCode.apply(null, chunk));\n",
              "      yield {\n",
              "        response: {\n",
              "          action: 'append',\n",
              "          file: file.name,\n",
              "          data: base64,\n",
              "        },\n",
              "      };\n",
              "\n",
              "      let percentDone = fileData.byteLength === 0 ?\n",
              "          100 :\n",
              "          Math.round((position / fileData.byteLength) * 100);\n",
              "      percent.textContent = `${percentDone}% done`;\n",
              "\n",
              "    } while (position < fileData.byteLength);\n",
              "  }\n",
              "\n",
              "  // All done.\n",
              "  yield {\n",
              "    response: {\n",
              "      action: 'complete',\n",
              "    }\n",
              "  };\n",
              "}\n",
              "\n",
              "scope.google = scope.google || {};\n",
              "scope.google.colab = scope.google.colab || {};\n",
              "scope.google.colab._files = {\n",
              "  _uploadFiles,\n",
              "  _uploadFilesContinue,\n",
              "};\n",
              "})(self);\n",
              "</script> "
            ]
          },
          "metadata": {}
        },
        {
          "output_type": "stream",
          "name": "stdout",
          "text": [
            "Saving kaggle.json to kaggle.json\n"
          ]
        },
        {
          "output_type": "execute_result",
          "data": {
            "text/plain": [
              "{'kaggle.json': b'{\"username\":\"synjoestar\",\"key\":\"9e0b44f130883e1960ac2b12e3874ef8\"}'}"
            ]
          },
          "metadata": {},
          "execution_count": 3
        }
      ]
    },
    {
      "cell_type": "code",
      "source": [
        "# Hapus dataset lama jika ada\n",
        "!rm -rf rice_image_dataset/ rice-image-dataset.zip"
      ],
      "metadata": {
        "id": "_ZgU0TqxLeYj"
      },
      "execution_count": 4,
      "outputs": []
    },
    {
      "cell_type": "code",
      "source": [
        "# Setup Kaggle API\n",
        "!mkdir -p ~/.kaggle\n",
        "!cp kaggle.json ~/.kaggle/\n",
        "!chmod 600 ~/.kaggle/kaggle.json\n",
        "\n",
        "# Download dataset dari Kaggle\n",
        "!kaggle datasets download -d muratkokludataset/rice-image-dataset\n",
        "\n",
        "# Unzip dataset ke dalam folder rice_image_dataset\n",
        "!unzip -q rice-image-dataset.zip -d rice_image_dataset\n",
        "\n",
        "# Hapus file zip untuk menghemat penyimpanan\n",
        "!rm rice-image-dataset.zip"
      ],
      "metadata": {
        "colab": {
          "base_uri": "https://localhost:8080/"
        },
        "id": "XImfU2elNkHD",
        "outputId": "89913e09-6b23-4c49-a2d3-06c97818ba0d"
      },
      "execution_count": 5,
      "outputs": [
        {
          "output_type": "stream",
          "name": "stdout",
          "text": [
            "Dataset URL: https://www.kaggle.com/datasets/muratkokludataset/rice-image-dataset\n",
            "License(s): CC0-1.0\n",
            "Downloading rice-image-dataset.zip to /content\n",
            " 99% 217M/219M [00:01<00:00, 170MB/s]\n",
            "100% 219M/219M [00:01<00:00, 143MB/s]\n"
          ]
        }
      ]
    },
    {
      "cell_type": "code",
      "source": [
        "!ls rice_image_dataset"
      ],
      "metadata": {
        "colab": {
          "base_uri": "https://localhost:8080/"
        },
        "id": "-GYZKODvOmOJ",
        "outputId": "d1c7269e-3d01-4654-908f-4fc5b057523e"
      },
      "execution_count": 6,
      "outputs": [
        {
          "output_type": "stream",
          "name": "stdout",
          "text": [
            "Rice_Image_Dataset\n"
          ]
        }
      ]
    },
    {
      "cell_type": "code",
      "source": [
        "dataset_path = \"/content/rice_image_dataset/Rice_Image_Dataset\"\n",
        "classes = [c for c in os.listdir(dataset_path) if os.path.isdir(os.path.join(dataset_path, c))]\n",
        "\n",
        "print(f\"Jumlah kelas yang valid: {len(classes)}\")\n",
        "print(f\"Kelas yang tersedia: {classes}\")"
      ],
      "metadata": {
        "colab": {
          "base_uri": "https://localhost:8080/"
        },
        "id": "L2Rp84P2PBJK",
        "outputId": "824f5ba4-5026-4fdc-be3f-9aefd6d45016"
      },
      "execution_count": 7,
      "outputs": [
        {
          "output_type": "stream",
          "name": "stdout",
          "text": [
            "Jumlah kelas yang valid: 5\n",
            "Kelas yang tersedia: ['Basmati', 'Ipsala', 'Arborio', 'Jasmine', 'Karacadag']\n"
          ]
        }
      ]
    },
    {
      "cell_type": "code",
      "source": [
        "# Cek Jumlah gambar /kelas\n",
        "for c in classes:\n",
        "    num_images = len(os.listdir(os.path.join(dataset_path, c)))\n",
        "    print(f\"Kelas {c}: {num_images} gambar\")"
      ],
      "metadata": {
        "colab": {
          "base_uri": "https://localhost:8080/"
        },
        "id": "eFZd_q_xQ2Jt",
        "outputId": "d0e3ef25-53d3-4e7e-e5a4-9c7ad25e2587"
      },
      "execution_count": 8,
      "outputs": [
        {
          "output_type": "stream",
          "name": "stdout",
          "text": [
            "Kelas Basmati: 15000 gambar\n",
            "Kelas Ipsala: 15000 gambar\n",
            "Kelas Arborio: 15000 gambar\n",
            "Kelas Jasmine: 15000 gambar\n",
            "Kelas Karacadag: 15000 gambar\n"
          ]
        }
      ]
    },
    {
      "cell_type": "code",
      "source": [
        "# Cek apakah semua gambar valid\n",
        "for c in classes:\n",
        "    class_path = os.path.join(dataset_path, c)\n",
        "    for img_name in os.listdir(class_path):\n",
        "        img_path = os.path.join(class_path, img_name)\n",
        "        try:\n",
        "            img = Image.open(img_path)\n",
        "            img.verify()  # Cek validitas gambar\n",
        "        except Exception as e:\n",
        "            print(f\"Masalah dengan {img_path}: {e}\")"
      ],
      "metadata": {
        "id": "DsBc_wscQ9d9"
      },
      "execution_count": 9,
      "outputs": []
    },
    {
      "cell_type": "markdown",
      "metadata": {
        "id": "bFgLyQPHX98s"
      },
      "source": [
        "### Data Preprocessing"
      ]
    },
    {
      "cell_type": "markdown",
      "metadata": {
        "id": "9ICO2-E0YxzD"
      },
      "source": [
        "#### Split Dataset"
      ]
    },
    {
      "cell_type": "code",
      "source": [
        "# Path dataset asli\n",
        "dataset_path = \"/content/rice_image_dataset/Rice_Image_Dataset\"\n",
        "train_path = \"/content/train\"\n",
        "val_path = \"/content/val\"\n",
        "test_path = \"/content/test\"\n",
        "\n",
        "# Buat folder train, val, test\n",
        "os.makedirs(train_path, exist_ok=True)\n",
        "os.makedirs(val_path, exist_ok=True)\n",
        "os.makedirs(test_path, exist_ok=True)\n",
        "\n",
        "# Split dataset\n",
        "for category in os.listdir(dataset_path):\n",
        "    class_path = os.path.join(dataset_path, category)\n",
        "\n",
        "    if os.path.isdir(class_path):\n",
        "        images = os.listdir(class_path)\n",
        "\n",
        "        # Split 85% train+valid dan 15% test\n",
        "        train_valid_images, test_images = train_test_split(images, test_size=0.15, random_state=42)\n",
        "\n",
        "        # Split 70% train dan 15% valid dari train+valid\n",
        "        train_images, val_images = train_test_split(train_valid_images, test_size=0.1765, random_state=42)  # 15/85 ≈ 0.1765\n",
        "\n",
        "        # Pindahkan ke folder train, val, test\n",
        "        os.makedirs(os.path.join(train_path, category), exist_ok=True)\n",
        "        os.makedirs(os.path.join(val_path, category), exist_ok=True)\n",
        "        os.makedirs(os.path.join(test_path, category), exist_ok=True)\n",
        "\n",
        "        for img in train_images:\n",
        "            shutil.copy(os.path.join(class_path, img), os.path.join(train_path, category, img))\n",
        "        for img in val_images:\n",
        "            shutil.copy(os.path.join(class_path, img), os.path.join(val_path, category, img))\n",
        "        for img in test_images:\n",
        "            shutil.copy(os.path.join(class_path, img), os.path.join(test_path, category, img))\n",
        "\n",
        "print(\"Dataset berhasil dipisah!\")\n"
      ],
      "metadata": {
        "colab": {
          "base_uri": "https://localhost:8080/"
        },
        "id": "UN0xFwZnFjPB",
        "outputId": "c8627e5f-bcb0-4b3e-c39d-e1af741e32d1"
      },
      "execution_count": 10,
      "outputs": [
        {
          "output_type": "stream",
          "name": "stdout",
          "text": [
            "Dataset berhasil dipisah!\n"
          ]
        }
      ]
    },
    {
      "cell_type": "code",
      "source": [
        "# Data Augmentation untuk train set\n",
        "train_datagen = ImageDataGenerator(\n",
        "    rescale=1./255,\n",
        "    rotation_range=20,\n",
        "    width_shift_range=0.2,\n",
        "    height_shift_range=0.2,\n",
        "    shear_range=0.2,\n",
        "    zoom_range=0.2,\n",
        "    horizontal_flip=True\n",
        ")\n",
        "\n",
        "# Hanya rescale untuk validasi dan test\n",
        "valid_test_datagen = ImageDataGenerator(rescale=1./255)\n",
        "\n",
        "# Load dataset dengan ImageDataGenerator\n",
        "train_generator = train_datagen.flow_from_directory(\n",
        "    train_path,\n",
        "    target_size=(224, 224),\n",
        "    batch_size=32,\n",
        "    class_mode='categorical'\n",
        ")\n",
        "\n",
        "valid_generator = valid_test_datagen.flow_from_directory(\n",
        "    val_path,\n",
        "    target_size=(224, 224),\n",
        "    batch_size=32,\n",
        "    class_mode='categorical'\n",
        ")\n",
        "\n",
        "test_generator = valid_test_datagen.flow_from_directory(\n",
        "    test_path,\n",
        "    target_size=(224, 224),\n",
        "    batch_size=32,\n",
        "    class_mode='categorical',\n",
        "    shuffle=False  # Untuk evaluasi, jangan di-shuffle\n",
        ")\n",
        "\n",
        "print(f\"Total Train Images: {train_generator.samples}\")\n",
        "print(f\"Total Validation Images: {valid_generator.samples}\")\n",
        "print(f\"Total Test Images: {test_generator.samples}\")\n"
      ],
      "metadata": {
        "colab": {
          "base_uri": "https://localhost:8080/"
        },
        "id": "xHrX9bYASvhu",
        "outputId": "814cf2a5-5889-43f3-d0cb-8aa7e3809dc8"
      },
      "execution_count": 11,
      "outputs": [
        {
          "output_type": "stream",
          "name": "stdout",
          "text": [
            "Found 52495 images belonging to 5 classes.\n",
            "Found 11255 images belonging to 5 classes.\n",
            "Found 11250 images belonging to 5 classes.\n",
            "Total Train Images: 52495\n",
            "Total Validation Images: 11255\n",
            "Total Test Images: 11250\n"
          ]
        }
      ]
    },
    {
      "cell_type": "code",
      "source": [
        "# Ambil beberapa sampel dari train generator\n",
        "batch = next(train_generator)  # train_generator adalah ImageDataGenerator dari dataset training\n",
        "images, labels = batch  # Pisahkan gambar dan labelnya\n",
        "\n",
        "# Menampilkan 5 gambar acak\n",
        "plt.figure(figsize=(10, 5))\n",
        "for i in range(5):\n",
        "    idx = random.randint(0, len(images) - 1)\n",
        "    img = array_to_img(images[idx])  # Konversi dari array ke gambar\n",
        "    label = classes[np.argmax(labels[idx])]  # Ambil nama kelasnya\n",
        "\n",
        "    plt.subplot(1, 5, i + 1)\n",
        "    plt.imshow(img)\n",
        "    plt.title(label)\n",
        "    plt.axis(\"off\")\n",
        "\n",
        "plt.show()"
      ],
      "metadata": {
        "colab": {
          "base_uri": "https://localhost:8080/",
          "height": 192
        },
        "id": "GZxbUjzsU92s",
        "outputId": "fa802e8a-7645-42ba-d52b-76a71b02eb38"
      },
      "execution_count": 13,
      "outputs": [
        {
          "output_type": "display_data",
          "data": {
            "text/plain": [
              "<Figure size 1000x500 with 5 Axes>"
            ],
            "image/png": "[encoded data removed]"
          },
          "metadata": {}
        }
      ]
    },
    {
      "cell_type": "markdown",
      "metadata": {
        "id": "nc-Ph-oIYAUU"
      },
      "source": [
        "## Modelling"
      ]
    },
    {
      "cell_type": "code",
      "source": [
        "# Callback untuk menghentikan training jika val_loss tidak membaik setelah 5 epoch\n",
        "early_stopping = EarlyStopping(monitor='val_loss', patience=5, restore_best_weights=True, verbose=1)\n",
        "\n",
        "# Callback untuk menurunkan learning rate jika val_loss stagnan selama 3 epoch\n",
        "reduce_lr = ReduceLROnPlateau(monitor='val_loss', factor=0.8, patience=3, verbose=1, min_lr=1e-6)\n",
        "\n",
        "# Callback untuk menyimpan model terbaik dalam format .h5\n",
        "model_checkpoint = ModelCheckpoint(\"best_model.h5\", monitor=\"val_loss\", save_best_only=True, verbose=1)\n",
        "\n",
        "# Gabungkan semua callback\n",
        "callbacks = [early_stopping, reduce_lr, model_checkpoint]\n"
      ],
      "metadata": {
        "id": "DjMNiMzeFfy4"
      },
      "execution_count": 37,
      "outputs": []
    },
    {
      "cell_type": "code",
      "source": [
        "# Hyperparameters\n",
        "IMG_SIZE = (224, 224, 3)\n",
        "NUM_CLASSES = 5  # Ganti sesuai jumlah kelas pada dataset\n",
        "\n",
        "# Load Pre-trained ResNet50\n",
        "base_resnet = ResNet50(weights='imagenet', include_top=False, input_shape=IMG_SIZE)\n",
        "base_resnet.trainable = False  # Freeze pre-trained layers\n",
        "\n",
        "# Load Pre-trained MobileNetV2\n",
        "base_mobilenet = MobileNetV2(weights='imagenet', include_top=False, input_shape=IMG_SIZE)\n",
        "base_mobilenet.trainable = False  # Freeze pre-trained layers\n",
        "\n",
        "# Function to create model\n",
        "def build_model(base_model, name=\"Model\"):\n",
        "    model = Sequential([\n",
        "        base_model,\n",
        "        GlobalAveragePooling2D(),\n",
        "        Dense(512, activation='relu'),\n",
        "        Dropout(0.5),\n",
        "        Dense(NUM_CLASSES, activation='softmax')\n",
        "    ])\n",
        "    model.compile(optimizer='adam', loss='categorical_crossentropy', metrics=['accuracy'])\n",
        "    return model\n",
        "\n",
        "# Create models\n",
        "resnet_model = build_model(base_resnet, \"ResNet50_Model\")\n",
        "mobilenet_model = build_model(base_mobilenet, \"MobileNetV2_Model\")"
      ],
      "metadata": {
        "colab": {
          "base_uri": "https://localhost:8080/"
        },
        "id": "InzjMJ30VgV2",
        "outputId": "ce069cdd-db0d-4e37-ba25-195ec77bb30e"
      },
      "execution_count": 15,
      "outputs": [
        {
          "output_type": "stream",
          "name": "stdout",
          "text": [
            "Downloading data from https://storage.googleapis.com/tensorflow/keras-applications/resnet/resnet50_weights_tf_dim_ordering_tf_kernels_notop.h5\n",
            "\u001b[1m94765736/94765736\u001b[0m \u001b[32m━━━━━━━━━━━━━━━━━━━━\u001b[0m\u001b[37m\u001b[0m \u001b[1m1s\u001b[0m 0us/step\n",
            "Downloading data from https://storage.googleapis.com/tensorflow/keras-applications/mobilenet_v2/mobilenet_v2_weights_tf_dim_ordering_tf_kernels_1.0_224_no_top.h5\n",
            "\u001b[1m9406464/9406464\u001b[0m \u001b[32m━━━━━━━━━━━━━━━━━━━━\u001b[0m\u001b[37m\u001b[0m \u001b[1m0s\u001b[0m 0us/step\n"
          ]
        }
      ]
    },
    {
      "cell_type": "code",
      "source": [
        "for layer in base_resnet.layers[-10:]:  # Unfreeze 10 layer terakhir\n",
        "    layer.trainable = True\n",
        "\n",
        "for layer in base_mobilenet.layers[-10:]:\n",
        "    layer.trainable = True\n",
        "\n",
        "resnet_model.compile(optimizer=tf.keras.optimizers.Adam(1e-5), loss='categorical_crossentropy', metrics=['accuracy'])\n",
        "mobilenet_model.compile(optimizer=tf.keras.optimizers.Adam(1e-5), loss='categorical_crossentropy', metrics=['accuracy'])\n",
        "\n",
        "history_resnet_finetune = resnet_model.fit(\n",
        "    train_generator,\n",
        "    validation_data=valid_generator,\n",
        "    epochs=10,  # Bisa disesuaikan\n",
        "    callbacks=callbacks\n",
        ")\n",
        "\n",
        "history_mobilenet_finetune = mobilenet_model.fit(\n",
        "    train_generator,\n",
        "    validation_data=valid_generator,\n",
        "    epochs=10,  # Bisa disesuaikan\n",
        "    callbacks=callbacks\n",
        ")"
      ],
      "metadata": {
        "colab": {
          "base_uri": "https://localhost:8080/"
        },
        "id": "JOcInDN7ZDbG",
        "outputId": "2f1d9e32-541c-485f-c5fe-18cf440e88ba"
      },
      "execution_count": null,
      "outputs": [
        {
          "output_type": "stream",
          "name": "stderr",
          "text": [
            "/usr/local/lib/python3.11/dist-packages/keras/src/trainers/data_adapters/py_dataset_adapter.py:121: UserWarning: Your `PyDataset` class should call `super().__init__(**kwargs)` in its constructor. `**kwargs` can include `workers`, `use_multiprocessing`, `max_queue_size`. Do not pass these arguments to `fit()`, as they will be ignored.\n",
            "  self._warn_if_super_not_called()\n"
          ]
        },
        {
          "output_type": "stream",
          "name": "stdout",
          "text": [
            "Epoch 1/10\n",
            "\u001b[1m1641/1641\u001b[0m \u001b[32m━━━━━━━━━━━━━━━━━━━━\u001b[0m\u001b[37m\u001b[0m \u001b[1m0s\u001b[0m 386ms/step - accuracy: 0.6072 - loss: 0.9228\n",
            "Epoch 1: val_loss improved from inf to 0.30959, saving model to best_model.h5\n"
          ]
        },
        {
          "output_type": "stream",
          "name": "stderr",
          "text": [
            "WARNING:absl:You are saving your model as an HDF5 file via `model.save()` or `keras.saving.save_model(model)`. This file format is considered legacy. We recommend using instead the native Keras format, e.g. `model.save('my_model.keras')` or `keras.saving.save_model(model, 'my_model.keras')`. \n"
          ]
        },
        {
          "output_type": "stream",
          "name": "stdout",
          "text": [
            "\b\b\b\b\b\b\b\b\b\b\b\b\b\b\b\b\b\b\b\b\b\b\b\b\b\b\b\b\b\b\b\b\b\b\b\b\b\b\b\b\b\b\b\b\b\b\b\b\b\b\b\b\b\b\b\b\b\b\b\b\b\b\b\b\b\b\b\b\b\b\b\b\b\b\b\b\b\b\r\u001b[1m1641/1641\u001b[0m \u001b[32m━━━━━━━━━━━━━━━━━━━━\u001b[0m\u001b[37m\u001b[0m \u001b[1m696s\u001b[0m 412ms/step - accuracy: 0.6073 - loss: 0.9226 - val_accuracy: 0.8707 - val_loss: 0.3096 - learning_rate: 1.0000e-05\n",
            "Epoch 2/10\n",
            "\u001b[1m1641/1641\u001b[0m \u001b[32m━━━━━━━━━━━━━━━━━━━━\u001b[0m\u001b[37m\u001b[0m \u001b[1m0s\u001b[0m 380ms/step - accuracy: 0.8340 - loss: 0.4061\n",
            "Epoch 2: val_loss improved from 0.30959 to 0.21903, saving model to best_model.h5\n"
          ]
        },
        {
          "output_type": "stream",
          "name": "stderr",
          "text": [
            "WARNING:absl:You are saving your model as an HDF5 file via `model.save()` or `keras.saving.save_model(model)`. This file format is considered legacy. We recommend using instead the native Keras format, e.g. `model.save('my_model.keras')` or `keras.saving.save_model(model, 'my_model.keras')`. \n"
          ]
        },
        {
          "output_type": "stream",
          "name": "stdout",
          "text": [
            "\b\b\b\b\b\b\b\b\b\b\b\b\b\b\b\b\b\b\b\b\b\b\b\b\b\b\b\b\b\b\b\b\b\b\b\b\b\b\b\b\b\b\b\b\b\b\b\b\b\b\b\b\b\b\b\b\b\b\b\b\b\b\b\b\b\b\b\b\b\b\b\b\b\b\b\b\b\b\r\u001b[1m1641/1641\u001b[0m \u001b[32m━━━━━━━━━━━━━━━━━━━━\u001b[0m\u001b[37m\u001b[0m \u001b[1m711s\u001b[0m 400ms/step - accuracy: 0.8340 - loss: 0.4061 - val_accuracy: 0.9282 - val_loss: 0.2190 - learning_rate: 1.0000e-05\n",
            "Epoch 3/10\n",
            "\u001b[1m1641/1641\u001b[0m \u001b[32m━━━━━━━━━━━━━━━━━━━━\u001b[0m\u001b[37m\u001b[0m \u001b[1m0s\u001b[0m 374ms/step - accuracy: 0.8564 - loss: 0.3511\n",
            "Epoch 3: val_loss improved from 0.21903 to 0.21497, saving model to best_model.h5\n"
          ]
        },
        {
          "output_type": "stream",
          "name": "stderr",
          "text": [
            "WARNING:absl:You are saving your model as an HDF5 file via `model.save()` or `keras.saving.save_model(model)`. This file format is considered legacy. We recommend using instead the native Keras format, e.g. `model.save('my_model.keras')` or `keras.saving.save_model(model, 'my_model.keras')`. \n"
          ]
        },
        {
          "output_type": "stream",
          "name": "stdout",
          "text": [
            "\b\b\b\b\b\b\b\b\b\b\b\b\b\b\b\b\b\b\b\b\b\b\b\b\b\b\b\b\b\b\b\b\b\b\b\b\b\b\b\b\b\b\b\b\b\b\b\b\b\b\b\b\b\b\b\b\b\b\b\b\b\b\b\b\b\b\b\b\b\b\b\b\b\b\b\b\b\b\r\u001b[1m1641/1641\u001b[0m \u001b[32m━━━━━━━━━━━━━━━━━━━━\u001b[0m\u001b[37m\u001b[0m \u001b[1m671s\u001b[0m 393ms/step - accuracy: 0.8564 - loss: 0.3511 - val_accuracy: 0.9225 - val_loss: 0.2150 - learning_rate: 1.0000e-05\n",
            "Epoch 4/10\n",
            "\u001b[1m1641/1641\u001b[0m \u001b[32m━━━━━━━━━━━━━━━━━━━━\u001b[0m\u001b[37m\u001b[0m \u001b[1m0s\u001b[0m 377ms/step - accuracy: 0.8745 - loss: 0.3117\n",
            "Epoch 4: val_loss improved from 0.21497 to 0.17072, saving model to best_model.h5\n"
          ]
        },
        {
          "output_type": "stream",
          "name": "stderr",
          "text": [
            "WARNING:absl:You are saving your model as an HDF5 file via `model.save()` or `keras.saving.save_model(model)`. This file format is considered legacy. We recommend using instead the native Keras format, e.g. `model.save('my_model.keras')` or `keras.saving.save_model(model, 'my_model.keras')`. \n"
          ]
        },
        {
          "output_type": "stream",
          "name": "stdout",
          "text": [
            "\b\b\b\b\b\b\b\b\b\b\b\b\b\b\b\b\b\b\b\b\b\b\b\b\b\b\b\b\b\b\b\b\b\b\b\b\b\b\b\b\b\b\b\b\b\b\b\b\b\b\b\b\b\b\b\b\b\b\b\b\b\b\b\b\b\b\b\b\b\b\b\b\b\b\b\b\b\b\r\u001b[1m1641/1641\u001b[0m \u001b[32m━━━━━━━━━━━━━━━━━━━━\u001b[0m\u001b[37m\u001b[0m \u001b[1m688s\u001b[0m 396ms/step - accuracy: 0.8745 - loss: 0.3117 - val_accuracy: 0.9445 - val_loss: 0.1707 - learning_rate: 1.0000e-05\n",
            "Epoch 5/10\n",
            "\u001b[1m1641/1641\u001b[0m \u001b[32m━━━━━━━━━━━━━━━━━━━━\u001b[0m\u001b[37m\u001b[0m \u001b[1m0s\u001b[0m 382ms/step - accuracy: 0.8815 - loss: 0.2904\n",
            "Epoch 5: val_loss did not improve from 0.17072\n",
            "\u001b[1m1641/1641\u001b[0m \u001b[32m━━━━━━━━━━━━━━━━━━━━\u001b[0m\u001b[37m\u001b[0m \u001b[1m658s\u001b[0m 401ms/step - accuracy: 0.8815 - loss: 0.2904 - val_accuracy: 0.9362 - val_loss: 0.1820 - learning_rate: 1.0000e-05\n",
            "Epoch 6/10\n",
            "\u001b[1m1641/1641\u001b[0m \u001b[32m━━━━━━━━━━━━━━━━━━━━\u001b[0m\u001b[37m\u001b[0m \u001b[1m0s\u001b[0m 377ms/step - accuracy: 0.8907 - loss: 0.2759\n",
            "Epoch 6: val_loss improved from 0.17072 to 0.16881, saving model to best_model.h5\n"
          ]
        },
        {
          "output_type": "stream",
          "name": "stderr",
          "text": [
            "WARNING:absl:You are saving your model as an HDF5 file via `model.save()` or `keras.saving.save_model(model)`. This file format is considered legacy. We recommend using instead the native Keras format, e.g. `model.save('my_model.keras')` or `keras.saving.save_model(model, 'my_model.keras')`. \n"
          ]
        },
        {
          "output_type": "stream",
          "name": "stdout",
          "text": [
            "\b\b\b\b\b\b\b\b\b\b\b\b\b\b\b\b\b\b\b\b\b\b\b\b\b\b\b\b\b\b\b\b\b\b\b\b\b\b\b\b\b\b\b\b\b\b\b\b\b\b\b\b\b\b\b\b\b\b\b\b\b\b\b\b\b\b\b\b\b\b\b\b\b\b\b\b\b\b\r\u001b[1m1641/1641\u001b[0m \u001b[32m━━━━━━━━━━━━━━━━━━━━\u001b[0m\u001b[37m\u001b[0m \u001b[1m650s\u001b[0m 396ms/step - accuracy: 0.8907 - loss: 0.2759 - val_accuracy: 0.9384 - val_loss: 0.1688 - learning_rate: 1.0000e-05\n",
            "Epoch 7/10\n",
            "\u001b[1m1641/1641\u001b[0m \u001b[32m━━━━━━━━━━━━━━━━━━━━\u001b[0m\u001b[37m\u001b[0m \u001b[1m0s\u001b[0m 382ms/step - accuracy: 0.8951 - loss: 0.2626\n",
            "Epoch 7: val_loss did not improve from 0.16881\n",
            "\u001b[1m1641/1641\u001b[0m \u001b[32m━━━━━━━━━━━━━━━━━━━━\u001b[0m\u001b[37m\u001b[0m \u001b[1m669s\u001b[0m 407ms/step - accuracy: 0.8951 - loss: 0.2626 - val_accuracy: 0.9426 - val_loss: 0.1732 - learning_rate: 1.0000e-05\n",
            "Epoch 8/10\n",
            "\u001b[1m1641/1641\u001b[0m \u001b[32m━━━━━━━━━━━━━━━━━━━━\u001b[0m\u001b[37m\u001b[0m \u001b[1m0s\u001b[0m 375ms/step - accuracy: 0.9027 - loss: 0.2461\n",
            "Epoch 8: val_loss did not improve from 0.16881\n",
            "\u001b[1m1641/1641\u001b[0m \u001b[32m━━━━━━━━━━━━━━━━━━━━\u001b[0m\u001b[37m\u001b[0m \u001b[1m646s\u001b[0m 394ms/step - accuracy: 0.9027 - loss: 0.2461 - val_accuracy: 0.9328 - val_loss: 0.1865 - learning_rate: 1.0000e-05\n",
            "Epoch 9/10\n",
            "\u001b[1m1641/1641\u001b[0m \u001b[32m━━━━━━━━━━━━━━━━━━━━\u001b[0m\u001b[37m\u001b[0m \u001b[1m0s\u001b[0m 377ms/step - accuracy: 0.9044 - loss: 0.2398\n",
            "Epoch 9: val_loss improved from 0.16881 to 0.16385, saving model to best_model.h5\n"
          ]
        },
        {
          "output_type": "stream",
          "name": "stderr",
          "text": [
            "WARNING:absl:You are saving your model as an HDF5 file via `model.save()` or `keras.saving.save_model(model)`. This file format is considered legacy. We recommend using instead the native Keras format, e.g. `model.save('my_model.keras')` or `keras.saving.save_model(model, 'my_model.keras')`. \n"
          ]
        },
        {
          "output_type": "stream",
          "name": "stdout",
          "text": [
            "\b\b\b\b\b\b\b\b\b\b\b\b\b\b\b\b\b\b\b\b\b\b\b\b\b\b\b\b\b\b\b\b\b\b\b\b\b\b\b\b\b\b\b\b\b\b\b\b\b\b\b\b\b\b\b\b\b\b\b\b\b\b\b\b\b\b\b\b\b\b\b\b\b\b\b\b\b\b\r\u001b[1m1641/1641\u001b[0m \u001b[32m━━━━━━━━━━━━━━━━━━━━\u001b[0m\u001b[37m\u001b[0m \u001b[1m686s\u001b[0m 396ms/step - accuracy: 0.9044 - loss: 0.2398 - val_accuracy: 0.9397 - val_loss: 0.1639 - learning_rate: 1.0000e-05\n",
            "Epoch 10/10\n",
            "\u001b[1m1641/1641\u001b[0m \u001b[32m━━━━━━━━━━━━━━━━━━━━\u001b[0m\u001b[37m\u001b[0m \u001b[1m0s\u001b[0m 377ms/step - accuracy: 0.9069 - loss: 0.2398\n",
            "Epoch 10: val_loss did not improve from 0.16385\n",
            "\u001b[1m1641/1641\u001b[0m \u001b[32m━━━━━━━━━━━━━━━━━━━━\u001b[0m\u001b[37m\u001b[0m \u001b[1m649s\u001b[0m 396ms/step - accuracy: 0.9069 - loss: 0.2398 - val_accuracy: 0.9341 - val_loss: 0.1857 - learning_rate: 1.0000e-05\n",
            "Restoring model weights from the end of the best epoch: 9.\n",
            "Epoch 1/10\n",
            "\u001b[1m1641/1641\u001b[0m \u001b[32m━━━━━━━━━━━━━━━━━━━━\u001b[0m\u001b[37m\u001b[0m \u001b[1m0s\u001b[0m 362ms/step - accuracy: 0.7806 - loss: 0.6065\n",
            "Epoch 1: val_loss improved from 0.16385 to 0.09524, saving model to best_model.h5\n"
          ]
        },
        {
          "output_type": "stream",
          "name": "stderr",
          "text": [
            "WARNING:absl:You are saving your model as an HDF5 file via `model.save()` or `keras.saving.save_model(model)`. This file format is considered legacy. We recommend using instead the native Keras format, e.g. `model.save('my_model.keras')` or `keras.saving.save_model(model, 'my_model.keras')`. \n"
          ]
        },
        {
          "output_type": "stream",
          "name": "stdout",
          "text": [
            "\b\b\b\b\b\b\b\b\b\b\b\b\b\b\b\b\b\b\b\b\b\b\b\b\b\b\b\b\b\b\b\b\b\b\b\b\b\b\b\b\b\b\b\b\b\b\b\b\b\b\b\b\b\b\b\b\b\b\b\b\b\b\b\b\b\b\b\b\b\b\b\b\b\b\b\b\b\b\r\u001b[1m1641/1641\u001b[0m \u001b[32m━━━━━━━━━━━━━━━━━━━━\u001b[0m\u001b[37m\u001b[0m \u001b[1m632s\u001b[0m 377ms/step - accuracy: 0.7807 - loss: 0.6063 - val_accuracy: 0.9670 - val_loss: 0.0952 - learning_rate: 1.0000e-05\n",
            "Epoch 2/10\n",
            "\u001b[1m1641/1641\u001b[0m \u001b[32m━━━━━━━━━━━━━━━━━━━━\u001b[0m\u001b[37m\u001b[0m \u001b[1m0s\u001b[0m 364ms/step - accuracy: 0.9534 - loss: 0.1363\n",
            "Epoch 2: val_loss improved from 0.09524 to 0.07794, saving model to best_model.h5\n"
          ]
        },
        {
          "output_type": "stream",
          "name": "stderr",
          "text": [
            "WARNING:absl:You are saving your model as an HDF5 file via `model.save()` or `keras.saving.save_model(model)`. This file format is considered legacy. We recommend using instead the native Keras format, e.g. `model.save('my_model.keras')` or `keras.saving.save_model(model, 'my_model.keras')`. \n"
          ]
        },
        {
          "output_type": "stream",
          "name": "stdout",
          "text": [
            "\b\b\b\b\b\b\b\b\b\b\b\b\b\b\b\b\b\b\b\b\b\b\b\b\b\b\b\b\b\b\b\b\b\b\b\b\b\b\b\b\b\b\b\b\b\b\b\b\b\b\b\b\b\b\b\b\b\b\b\b\b\b\b\b\b\b\b\b\b\b\b\b\b\b\b\b\b\b\r\u001b[1m1641/1641\u001b[0m \u001b[32m━━━━━━━━━━━━━━━━━━━━\u001b[0m\u001b[37m\u001b[0m \u001b[1m669s\u001b[0m 374ms/step - accuracy: 0.9534 - loss: 0.1363 - val_accuracy: 0.9730 - val_loss: 0.0779 - learning_rate: 1.0000e-05\n",
            "Epoch 3/10\n",
            "\u001b[1m1641/1641\u001b[0m \u001b[32m━━━━━━━━━━━━━━━━━━━━\u001b[0m\u001b[37m\u001b[0m \u001b[1m0s\u001b[0m 361ms/step - accuracy: 0.9626 - loss: 0.1097\n",
            "Epoch 3: val_loss improved from 0.07794 to 0.07291, saving model to best_model.h5\n"
          ]
        },
        {
          "output_type": "stream",
          "name": "stderr",
          "text": [
            "WARNING:absl:You are saving your model as an HDF5 file via `model.save()` or `keras.saving.save_model(model)`. This file format is considered legacy. We recommend using instead the native Keras format, e.g. `model.save('my_model.keras')` or `keras.saving.save_model(model, 'my_model.keras')`. \n"
          ]
        },
        {
          "output_type": "stream",
          "name": "stdout",
          "text": [
            "\b\b\b\b\b\b\b\b\b\b\b\b\b\b\b\b\b\b\b\b\b\b\b\b\b\b\b\b\b\b\b\b\b\b\b\b\b\b\b\b\b\b\b\b\b\b\b\b\b\b\b\b\b\b\b\b\b\b\b\b\b\b\b\b\b\b\b\b\b\b\b\b\b\b\b\b\b\b\r\u001b[1m1641/1641\u001b[0m \u001b[32m━━━━━━━━━━━━━━━━━━━━\u001b[0m\u001b[37m\u001b[0m \u001b[1m610s\u001b[0m 371ms/step - accuracy: 0.9626 - loss: 0.1097 - val_accuracy: 0.9755 - val_loss: 0.0729 - learning_rate: 1.0000e-05\n",
            "Epoch 4/10\n",
            "\u001b[1m1641/1641\u001b[0m \u001b[32m━━━━━━━━━━━━━━━━━━━━\u001b[0m\u001b[37m\u001b[0m \u001b[1m0s\u001b[0m 356ms/step - accuracy: 0.9687 - loss: 0.0883\n",
            "Epoch 4: val_loss did not improve from 0.07291\n",
            "\u001b[1m1641/1641\u001b[0m \u001b[32m━━━━━━━━━━━━━━━━━━━━\u001b[0m\u001b[37m\u001b[0m \u001b[1m597s\u001b[0m 364ms/step - accuracy: 0.9687 - loss: 0.0883 - val_accuracy: 0.9634 - val_loss: 0.1042 - learning_rate: 1.0000e-05\n",
            "Epoch 5/10\n",
            "\u001b[1m1641/1641\u001b[0m \u001b[32m━━━━━━━━━━━━━━━━━━━━\u001b[0m\u001b[37m\u001b[0m \u001b[1m0s\u001b[0m 360ms/step - accuracy: 0.9719 - loss: 0.0798\n",
            "Epoch 5: val_loss did not improve from 0.07291\n",
            "\u001b[1m1641/1641\u001b[0m \u001b[32m━━━━━━━━━━━━━━━━━━━━\u001b[0m\u001b[37m\u001b[0m \u001b[1m611s\u001b[0m 372ms/step - accuracy: 0.9719 - loss: 0.0798 - val_accuracy: 0.9716 - val_loss: 0.0831 - learning_rate: 1.0000e-05\n",
            "Epoch 6/10\n",
            "\u001b[1m1641/1641\u001b[0m \u001b[32m━━━━━━━━━━━━━━━━━━━━\u001b[0m\u001b[37m\u001b[0m \u001b[1m0s\u001b[0m 352ms/step - accuracy: 0.9736 - loss: 0.0757\n",
            "Epoch 6: ReduceLROnPlateau reducing learning rate to 7.999999797903002e-06.\n",
            "\n",
            "Epoch 6: val_loss did not improve from 0.07291\n",
            "\u001b[1m1641/1641\u001b[0m \u001b[32m━━━━━━━━━━━━━━━━━━━━\u001b[0m\u001b[37m\u001b[0m \u001b[1m598s\u001b[0m 364ms/step - accuracy: 0.9736 - loss: 0.0757 - val_accuracy: 0.9711 - val_loss: 0.0843 - learning_rate: 1.0000e-05\n",
            "Epoch 7/10\n",
            "\u001b[1m1641/1641\u001b[0m \u001b[32m━━━━━━━━━━━━━━━━━━━━\u001b[0m\u001b[37m\u001b[0m \u001b[1m0s\u001b[0m 354ms/step - accuracy: 0.9761 - loss: 0.0677\n",
            "Epoch 7: val_loss did not improve from 0.07291\n",
            "\u001b[1m1641/1641\u001b[0m \u001b[32m━━━━━━━━━━━━━━━━━━━━\u001b[0m\u001b[37m\u001b[0m \u001b[1m597s\u001b[0m 364ms/step - accuracy: 0.9761 - loss: 0.0677 - val_accuracy: 0.9669 - val_loss: 0.0962 - learning_rate: 8.0000e-06\n",
            "Epoch 8/10\n",
            "\u001b[1m1641/1641\u001b[0m \u001b[32m━━━━━━━━━━━━━━━━━━━━\u001b[0m\u001b[37m\u001b[0m \u001b[1m0s\u001b[0m 358ms/step - accuracy: 0.9776 - loss: 0.0676\n",
            "Epoch 8: val_loss did not improve from 0.07291\n",
            "\u001b[1m1641/1641\u001b[0m \u001b[32m━━━━━━━━━━━━━━━━━━━━\u001b[0m\u001b[37m\u001b[0m \u001b[1m602s\u001b[0m 367ms/step - accuracy: 0.9776 - loss: 0.0676 - val_accuracy: 0.9613 - val_loss: 0.1116 - learning_rate: 8.0000e-06\n",
            "Epoch 8: early stopping\n",
            "Restoring model weights from the end of the best epoch: 3.\n"
          ]
        }
      ]
    },
    {
      "cell_type": "code",
      "source": [
        "# Load pretrained MobileNetV2 tanpa Fully Connected Layer\n",
        "base_mobilenet = MobileNetV2(weights='imagenet', include_top=False, input_shape=(224, 224, 3))\n",
        "base_mobilenet.trainable = False  # Freeze pretrained layers\n",
        "\n",
        "# Bangun Model Sequential sesuai kriteria\n",
        "model = Sequential([\n",
        "    base_mobilenet,\n",
        "    Conv2D(64, (3, 3), activation='relu', padding='same'),  # Tambahkan Conv2D\n",
        "    MaxPooling2D(pool_size=(2, 2)),  # Tambahkan Pooling Layer\n",
        "    GlobalAveragePooling2D(),\n",
        "    Flatten(),\n",
        "    Dense(128, activation='relu'),\n",
        "    Dropout(0.5),\n",
        "    Dense(5, activation='softmax')  # Output untuk 5 kelas beras\n",
        "])\n",
        "\n",
        "# Compile model\n",
        "model.compile(optimizer='adam', loss='categorical_crossentropy', metrics=['accuracy'])\n",
        "\n",
        "# Tampilkan arsitektur model\n",
        "model.summary()"
      ],
      "metadata": {
        "colab": {
          "base_uri": "https://localhost:8080/",
          "height": 401
        },
        "id": "BDOT4yyuLNTz",
        "outputId": "17c94034-ac76-4836-ddfe-3a7176a04aad"
      },
      "execution_count": 22,
      "outputs": [
        {
          "output_type": "display_data",
          "data": {
            "text/plain": [
              "\u001b[1mModel: \"sequential_6\"\u001b[0m\n"
            ],
            "text/html": [
              "<pre style=\"white-space:pre;overflow-x:auto;line-height:normal;font-family:Menlo,'DejaVu Sans Mono',consolas,'Courier New',monospace\"><span style=\"font-weight: bold\">Model: \"sequential_6\"</span>\n",
              "</pre>\n"
            ]
          },
          "metadata": {}
        },
        {
          "output_type": "display_data",
          "data": {
            "text/plain": [
              "┏━━━━━━━━━━━━━━━━━━━━━━━━━━━━━━━━━━━━━━┳━━━━━━━━━━━━━━━━━━━━━━━━━━━━━┳━━━━━━━━━━━━━━━━━┓\n",
              "┃\u001b[1m \u001b[0m\u001b[1mLayer (type)                        \u001b[0m\u001b[1m \u001b[0m┃\u001b[1m \u001b[0m\u001b[1mOutput Shape               \u001b[0m\u001b[1m \u001b[0m┃\u001b[1m \u001b[0m\u001b[1m        Param #\u001b[0m\u001b[1m \u001b[0m┃\n",
              "┡━━━━━━━━━━━━━━━━━━━━━━━━━━━━━━━━━━━━━━╇━━━━━━━━━━━━━━━━━━━━━━━━━━━━━╇━━━━━━━━━━━━━━━━━┩\n",
              "│ mobilenetv2_1.00_224 (\u001b[38;5;33mFunctional\u001b[0m)    │ (\u001b[38;5;45mNone\u001b[0m, \u001b[38;5;34m7\u001b[0m, \u001b[38;5;34m7\u001b[0m, \u001b[38;5;34m1280\u001b[0m)          │       \u001b[38;5;34m2,257,984\u001b[0m │\n",
              "├──────────────────────────────────────┼─────────────────────────────┼─────────────────┤\n",
              "│ conv2d_4 (\u001b[38;5;33mConv2D\u001b[0m)                    │ (\u001b[38;5;45mNone\u001b[0m, \u001b[38;5;34m7\u001b[0m, \u001b[38;5;34m7\u001b[0m, \u001b[38;5;34m64\u001b[0m)            │         \u001b[38;5;34m737,344\u001b[0m │\n",
              "├──────────────────────────────────────┼─────────────────────────────┼─────────────────┤\n",
              "│ max_pooling2d (\u001b[38;5;33mMaxPooling2D\u001b[0m)         │ (\u001b[38;5;45mNone\u001b[0m, \u001b[38;5;34m3\u001b[0m, \u001b[38;5;34m3\u001b[0m, \u001b[38;5;34m64\u001b[0m)            │               \u001b[38;5;34m0\u001b[0m │\n",
              "├──────────────────────────────────────┼─────────────────────────────┼─────────────────┤\n",
              "│ global_average_pooling2d_6           │ (\u001b[38;5;45mNone\u001b[0m, \u001b[38;5;34m64\u001b[0m)                  │               \u001b[38;5;34m0\u001b[0m │\n",
              "│ (\u001b[38;5;33mGlobalAveragePooling2D\u001b[0m)             │                             │                 │\n",
              "├──────────────────────────────────────┼─────────────────────────────┼─────────────────┤\n",
              "│ flatten_4 (\u001b[38;5;33mFlatten\u001b[0m)                  │ (\u001b[38;5;45mNone\u001b[0m, \u001b[38;5;34m64\u001b[0m)                  │               \u001b[38;5;34m0\u001b[0m │\n",
              "├──────────────────────────────────────┼─────────────────────────────┼─────────────────┤\n",
              "│ dense_12 (\u001b[38;5;33mDense\u001b[0m)                     │ (\u001b[38;5;45mNone\u001b[0m, \u001b[38;5;34m128\u001b[0m)                 │           \u001b[38;5;34m8,320\u001b[0m │\n",
              "├──────────────────────────────────────┼─────────────────────────────┼─────────────────┤\n",
              "│ dropout_6 (\u001b[38;5;33mDropout\u001b[0m)                  │ (\u001b[38;5;45mNone\u001b[0m, \u001b[38;5;34m128\u001b[0m)                 │               \u001b[38;5;34m0\u001b[0m │\n",
              "├──────────────────────────────────────┼─────────────────────────────┼─────────────────┤\n",
              "│ dense_13 (\u001b[38;5;33mDense\u001b[0m)                     │ (\u001b[38;5;45mNone\u001b[0m, \u001b[38;5;34m5\u001b[0m)                   │             \u001b[38;5;34m645\u001b[0m │\n",
              "└──────────────────────────────────────┴─────────────────────────────┴─────────────────┘\n"
            ],
            "text/html": [
              "<pre style=\"white-space:pre;overflow-x:auto;line-height:normal;font-family:Menlo,'DejaVu Sans Mono',consolas,'Courier New',monospace\">┏━━━━━━━━━━━━━━━━━━━━━━━━━━━━━━━━━━━━━━┳━━━━━━━━━━━━━━━━━━━━━━━━━━━━━┳━━━━━━━━━━━━━━━━━┓\n",
              "┃<span style=\"font-weight: bold\"> Layer (type)                         </span>┃<span style=\"font-weight: bold\"> Output Shape                </span>┃<span style=\"font-weight: bold\">         Param # </span>┃\n",
              "┡━━━━━━━━━━━━━━━━━━━━━━━━━━━━━━━━━━━━━━╇━━━━━━━━━━━━━━━━━━━━━━━━━━━━━╇━━━━━━━━━━━━━━━━━┩\n",
              "│ mobilenetv2_1.00_224 (<span style=\"color: #0087ff; text-decoration-color: #0087ff\">Functional</span>)    │ (<span style=\"color: #00d7ff; text-decoration-color: #00d7ff\">None</span>, <span style=\"color: #00af00; text-decoration-color: #00af00\">7</span>, <span style=\"color: #00af00; text-decoration-color: #00af00\">7</span>, <span style=\"color: #00af00; text-decoration-color: #00af00\">1280</span>)          │       <span style=\"color: #00af00; text-decoration-color: #00af00\">2,257,984</span> │\n",
              "├──────────────────────────────────────┼─────────────────────────────┼─────────────────┤\n",
              "│ conv2d_4 (<span style=\"color: #0087ff; text-decoration-color: #0087ff\">Conv2D</span>)                    │ (<span style=\"color: #00d7ff; text-decoration-color: #00d7ff\">None</span>, <span style=\"color: #00af00; text-decoration-color: #00af00\">7</span>, <span style=\"color: #00af00; text-decoration-color: #00af00\">7</span>, <span style=\"color: #00af00; text-decoration-color: #00af00\">64</span>)            │         <span style=\"color: #00af00; text-decoration-color: #00af00\">737,344</span> │\n",
              "├──────────────────────────────────────┼─────────────────────────────┼─────────────────┤\n",
              "│ max_pooling2d (<span style=\"color: #0087ff; text-decoration-color: #0087ff\">MaxPooling2D</span>)         │ (<span style=\"color: #00d7ff; text-decoration-color: #00d7ff\">None</span>, <span style=\"color: #00af00; text-decoration-color: #00af00\">3</span>, <span style=\"color: #00af00; text-decoration-color: #00af00\">3</span>, <span style=\"color: #00af00; text-decoration-color: #00af00\">64</span>)            │               <span style=\"color: #00af00; text-decoration-color: #00af00\">0</span> │\n",
              "├──────────────────────────────────────┼─────────────────────────────┼─────────────────┤\n",
              "│ global_average_pooling2d_6           │ (<span style=\"color: #00d7ff; text-decoration-color: #00d7ff\">None</span>, <span style=\"color: #00af00; text-decoration-color: #00af00\">64</span>)                  │               <span style=\"color: #00af00; text-decoration-color: #00af00\">0</span> │\n",
              "│ (<span style=\"color: #0087ff; text-decoration-color: #0087ff\">GlobalAveragePooling2D</span>)             │                             │                 │\n",
              "├──────────────────────────────────────┼─────────────────────────────┼─────────────────┤\n",
              "│ flatten_4 (<span style=\"color: #0087ff; text-decoration-color: #0087ff\">Flatten</span>)                  │ (<span style=\"color: #00d7ff; text-decoration-color: #00d7ff\">None</span>, <span style=\"color: #00af00; text-decoration-color: #00af00\">64</span>)                  │               <span style=\"color: #00af00; text-decoration-color: #00af00\">0</span> │\n",
              "├──────────────────────────────────────┼─────────────────────────────┼─────────────────┤\n",
              "│ dense_12 (<span style=\"color: #0087ff; text-decoration-color: #0087ff\">Dense</span>)                     │ (<span style=\"color: #00d7ff; text-decoration-color: #00d7ff\">None</span>, <span style=\"color: #00af00; text-decoration-color: #00af00\">128</span>)                 │           <span style=\"color: #00af00; text-decoration-color: #00af00\">8,320</span> │\n",
              "├──────────────────────────────────────┼─────────────────────────────┼─────────────────┤\n",
              "│ dropout_6 (<span style=\"color: #0087ff; text-decoration-color: #0087ff\">Dropout</span>)                  │ (<span style=\"color: #00d7ff; text-decoration-color: #00d7ff\">None</span>, <span style=\"color: #00af00; text-decoration-color: #00af00\">128</span>)                 │               <span style=\"color: #00af00; text-decoration-color: #00af00\">0</span> │\n",
              "├──────────────────────────────────────┼─────────────────────────────┼─────────────────┤\n",
              "│ dense_13 (<span style=\"color: #0087ff; text-decoration-color: #0087ff\">Dense</span>)                     │ (<span style=\"color: #00d7ff; text-decoration-color: #00d7ff\">None</span>, <span style=\"color: #00af00; text-decoration-color: #00af00\">5</span>)                   │             <span style=\"color: #00af00; text-decoration-color: #00af00\">645</span> │\n",
              "└──────────────────────────────────────┴─────────────────────────────┴─────────────────┘\n",
              "</pre>\n"
            ]
          },
          "metadata": {}
        },
        {
          "output_type": "display_data",
          "data": {
            "text/plain": [
              "\u001b[1m Total params: \u001b[0m\u001b[38;5;34m3,004,293\u001b[0m (11.46 MB)\n"
            ],
            "text/html": [
              "<pre style=\"white-space:pre;overflow-x:auto;line-height:normal;font-family:Menlo,'DejaVu Sans Mono',consolas,'Courier New',monospace\"><span style=\"font-weight: bold\"> Total params: </span><span style=\"color: #00af00; text-decoration-color: #00af00\">3,004,293</span> (11.46 MB)\n",
              "</pre>\n"
            ]
          },
          "metadata": {}
        },
        {
          "output_type": "display_data",
          "data": {
            "text/plain": [
              "\u001b[1m Trainable params: \u001b[0m\u001b[38;5;34m746,309\u001b[0m (2.85 MB)\n"
            ],
            "text/html": [
              "<pre style=\"white-space:pre;overflow-x:auto;line-height:normal;font-family:Menlo,'DejaVu Sans Mono',consolas,'Courier New',monospace\"><span style=\"font-weight: bold\"> Trainable params: </span><span style=\"color: #00af00; text-decoration-color: #00af00\">746,309</span> (2.85 MB)\n",
              "</pre>\n"
            ]
          },
          "metadata": {}
        },
        {
          "output_type": "display_data",
          "data": {
            "text/plain": [
              "\u001b[1m Non-trainable params: \u001b[0m\u001b[38;5;34m2,257,984\u001b[0m (8.61 MB)\n"
            ],
            "text/html": [
              "<pre style=\"white-space:pre;overflow-x:auto;line-height:normal;font-family:Menlo,'DejaVu Sans Mono',consolas,'Courier New',monospace\"><span style=\"font-weight: bold\"> Non-trainable params: </span><span style=\"color: #00af00; text-decoration-color: #00af00\">2,257,984</span> (8.61 MB)\n",
              "</pre>\n"
            ]
          },
          "metadata": {}
        }
      ]
    },
    {
      "cell_type": "markdown",
      "metadata": {
        "id": "XctzCfzbYCBK"
      },
      "source": [
        "## Evaluasi dan Visualisasi"
      ]
    },
    {
      "cell_type": "code",
      "execution_count": 31,
      "metadata": {
        "id": "EKk-ScZWYCBK",
        "colab": {
          "base_uri": "https://localhost:8080/"
        },
        "outputId": "dec6f3bd-a130-4cee-e0d1-8a54318cd7f5"
      },
      "outputs": [
        {
          "output_type": "stream",
          "name": "stderr",
          "text": [
            "WARNING:absl:Compiled the loaded model, but the compiled metrics have yet to be built. `model.compile_metrics` will be empty until you train or evaluate the model.\n"
          ]
        },
        {
          "output_type": "stream",
          "name": "stdout",
          "text": [
            "Epoch 1/2\n",
            "\u001b[1m1641/1641\u001b[0m \u001b[32m━━━━━━━━━━━━━━━━━━━━\u001b[0m\u001b[37m\u001b[0m \u001b[1m0s\u001b[0m 2s/step - accuracy: 0.9633 - loss: 0.1038\n",
            "Epoch 1: val_loss improved from inf to 0.07683, saving model to best_model.h5\n"
          ]
        },
        {
          "output_type": "stream",
          "name": "stderr",
          "text": [
            "WARNING:absl:You are saving your model as an HDF5 file via `model.save()` or `keras.saving.save_model(model)`. This file format is considered legacy. We recommend using instead the native Keras format, e.g. `model.save('my_model.keras')` or `keras.saving.save_model(model, 'my_model.keras')`. \n"
          ]
        },
        {
          "output_type": "stream",
          "name": "stdout",
          "text": [
            "\b\b\b\b\b\b\b\b\b\b\b\b\b\b\b\b\b\b\b\b\b\b\b\b\b\b\b\b\b\b\b\b\b\b\b\b\b\b\b\b\b\b\b\b\b\b\b\b\b\b\b\b\b\b\b\b\b\b\b\b\b\b\b\b\b\b\b\b\b\b\b\b\b\b\b\r\u001b[1m1641/1641\u001b[0m \u001b[32m━━━━━━━━━━━━━━━━━━━━\u001b[0m\u001b[37m\u001b[0m \u001b[1m3804s\u001b[0m 2s/step - accuracy: 0.9633 - loss: 0.1038 - val_accuracy: 0.9749 - val_loss: 0.0768 - learning_rate: 1.0000e-04\n",
            "Epoch 2/2\n",
            "\u001b[1m1641/1641\u001b[0m \u001b[32m━━━━━━━━━━━━━━━━━━━━\u001b[0m\u001b[37m\u001b[0m \u001b[1m0s\u001b[0m 2s/step - accuracy: 0.9753 - loss: 0.0745\n",
            "Epoch 2: val_loss did not improve from 0.07683\n",
            "\u001b[1m1641/1641\u001b[0m \u001b[32m━━━━━━━━━━━━━━━━━━━━\u001b[0m\u001b[37m\u001b[0m \u001b[1m3728s\u001b[0m 2s/step - accuracy: 0.9753 - loss: 0.0745 - val_accuracy: 0.9730 - val_loss: 0.0800 - learning_rate: 1.0000e-04\n",
            "Restoring model weights from the end of the best epoch: 1.\n"
          ]
        }
      ],
      "source": [
        "# Load model\n",
        "model = load_model(\"best_model.h5\")\n",
        "\n",
        "# Recompile model\n",
        "model.compile(optimizer=Adam(learning_rate=1e-4),\n",
        "              loss=\"categorical_crossentropy\",\n",
        "              metrics=[\"accuracy\"])\n",
        "\n",
        "# Retrain model\n",
        "history = model.fit(\n",
        "    train_generator,\n",
        "    validation_data=valid_generator,\n",
        "    epochs=2,  # Retrain 1-2 epoch\n",
        "    callbacks=callbacks\n",
        ")"
      ]
    },
    {
      "cell_type": "code",
      "source": [
        "# Data dari history\n",
        "acc = history.history['accuracy']\n",
        "val_acc = history.history['val_accuracy']\n",
        "loss = history.history['loss']\n",
        "val_loss = history.history['val_loss']\n",
        "\n",
        "epochs = range(len(acc))\n",
        "\n",
        "plt.figure(figsize=(12, 5))\n",
        "\n",
        "# Plot Training & Validation Accuracy\n",
        "plt.subplot(1, 2, 1)\n",
        "plt.plot(epochs, acc, color=\"#FF5733\", linestyle=\"-\", linewidth=2)\n",
        "plt.plot(epochs, val_acc, color=\"#337BFF\", linestyle=\"-\", linewidth=2)\n",
        "plt.title('Training and Validation Accuracy', fontsize=14)\n",
        "plt.xlabel('Epochs', fontsize=12)\n",
        "plt.ylabel('Accuracy', fontsize=12)\n",
        "plt.legend(['Train', 'Validation'], loc='lower right')\n",
        "plt.grid(True, linestyle=\"--\", alpha=0.6)\n",
        "\n",
        "# Plot Training & Validation Loss\n",
        "plt.subplot(1, 2, 2)\n",
        "plt.plot(epochs, loss, color=\"#FF5733\", linestyle=\"-\", linewidth=2)\n",
        "plt.plot(epochs, val_loss, color=\"#337BFF\", linestyle=\"-\", linewidth=2)\n",
        "plt.title('Training and Validation Loss', fontsize=14)\n",
        "plt.xlabel('Epochs', fontsize=12)\n",
        "plt.ylabel('Loss', fontsize=12)\n",
        "plt.legend(['Train', 'Validation'], loc='upper right')\n",
        "plt.grid(True, linestyle=\"--\", alpha=0.6)\n",
        "\n",
        "plt.show()"
      ],
      "metadata": {
        "colab": {
          "base_uri": "https://localhost:8080/",
          "height": 415
        },
        "id": "281xX5vUAFql",
        "outputId": "0682ba44-e2ff-4e1a-92bc-cb0f34de2630"
      },
      "execution_count": 33,
      "outputs": [
        {
          "output_type": "display_data",
          "data": {
            "text/plain": [
              "<Figure size 1200x500 with 2 Axes>"
            ],
            "image/png": "[encoded data removed]"
          },
          "metadata": {}
        }
      ]
    },
    {
      "cell_type": "code",
      "source": [
        "# Reset test generator\n",
        "test_generator.reset()\n",
        "\n",
        "# Prediksi model\n",
        "preds = model.predict(test_generator, verbose=0)\n",
        "\n",
        "# Konversi hasil prediksi ke label kelas (multi-class)\n",
        "preds_classes = np.argmax(preds, axis=1)  # Kalau pakai categorical_crossentropy\n",
        "true_classes = test_generator.classes\n",
        "\n",
        "# Definisi label kelas sesuai Rice Image Dataset\n",
        "labels = ['Arborio', 'Basmati', 'Ipsala', 'Jasmine', 'Karacadag']\n",
        "\n",
        "# Buat Confusion Matrix\n",
        "cm = confusion_matrix(true_classes, preds_classes)\n",
        "\n",
        "plt.figure(figsize=(7,6))\n",
        "sns.heatmap(pd.DataFrame(cm, index=labels, columns=labels), annot=True, fmt=\"d\", cmap=\"Blues\", linewidths=0.5)\n",
        "plt.xlabel(\"Predicted Labels\")\n",
        "plt.ylabel(\"True Labels\")\n",
        "plt.title(\"Confusion Matrix\")\n",
        "plt.show()\n",
        "\n",
        "# Print Classification Report\n",
        "print(\"\\nClassification Report:\\n\")\n",
        "print(classification_report(true_classes, preds_classes, target_names=labels, digits=4))\n"
      ],
      "metadata": {
        "colab": {
          "base_uri": "https://localhost:8080/",
          "height": 824
        },
        "id": "gSdkp1RPBi-s",
        "outputId": "8a45afeb-e847-48d4-f383-9939342e9025"
      },
      "execution_count": 36,
      "outputs": [
        {
          "output_type": "display_data",
          "data": {
            "text/plain": [
              "<Figure size 700x600 with 2 Axes>"
            ],
            "image/png": "[encoded data removed]"
          },
          "metadata": {}
        },
        {
          "output_type": "stream",
          "name": "stdout",
          "text": [
            "\n",
            "Classification Report:\n",
            "\n",
            "              precision    recall  f1-score   support\n",
            "\n",
            "     Arborio     0.9510    0.9840    0.9672      2250\n",
            "     Basmati     0.9902    0.9853    0.9877      2250\n",
            "      Ipsala     0.9367    0.9996    0.9671      2250\n",
            "     Jasmine     0.9843    0.9449    0.9642      2250\n",
            "   Karacadag     0.9967    0.9400    0.9675      2250\n",
            "\n",
            "    accuracy                         0.9708     11250\n",
            "   macro avg     0.9718    0.9708    0.9708     11250\n",
            "weighted avg     0.9718    0.9708    0.9708     11250\n",
            "\n"
          ]
        }
      ]
    },
    {
      "cell_type": "markdown",
      "metadata": {
        "id": "y_fIsUogYFSk"
      },
      "source": [
        "## Konversi Model"
      ]
    },
    {
      "cell_type": "code",
      "execution_count": 47,
      "metadata": {
        "id": "hZvGBpYoYFSl",
        "colab": {
          "base_uri": "https://localhost:8080/"
        },
        "outputId": "1712015f-3658-4d9a-9b3e-cc12a8a6314e"
      },
      "outputs": [
        {
          "output_type": "stream",
          "name": "stdout",
          "text": [
            "Saved artifact at 'saved_model_rice'. The following endpoints are available:\n",
            "\n",
            "* Endpoint 'serve'\n",
            "  args_0 (POSITIONAL_ONLY): TensorSpec(shape=(None, 224, 224, 3), dtype=tf.float32, name='input_layer_3')\n",
            "Output Type:\n",
            "  TensorSpec(shape=(None, 5), dtype=tf.float32, name=None)\n",
            "Captures:\n",
            "  138136766586064: TensorSpec(shape=(), dtype=tf.resource, name=None)\n",
            "  138136766591632: TensorSpec(shape=(), dtype=tf.resource, name=None)\n",
            "  138136766594512: TensorSpec(shape=(), dtype=tf.resource, name=None)\n",
            "  138136766587216: TensorSpec(shape=(), dtype=tf.resource, name=None)\n",
            "  138136766588176: TensorSpec(shape=(), dtype=tf.resource, name=None)\n",
            "  138136766593936: TensorSpec(shape=(), dtype=tf.resource, name=None)\n",
            "  138136766588944: TensorSpec(shape=(), dtype=tf.resource, name=None)\n",
            "  138136766592592: TensorSpec(shape=(), dtype=tf.resource, name=None)\n",
            "  138136766594896: TensorSpec(shape=(), dtype=tf.resource, name=None)\n",
            "  138136766589328: TensorSpec(shape=(), dtype=tf.resource, name=None)\n",
            "  138138086711824: TensorSpec(shape=(), dtype=tf.resource, name=None)\n",
            "  138142625464976: TensorSpec(shape=(), dtype=tf.resource, name=None)\n",
            "  138142624385744: TensorSpec(shape=(), dtype=tf.resource, name=None)\n",
            "  138142625467280: TensorSpec(shape=(), dtype=tf.resource, name=None)\n",
            "  138142625464784: TensorSpec(shape=(), dtype=tf.resource, name=None)\n",
            "  138142624384208: TensorSpec(shape=(), dtype=tf.resource, name=None)\n",
            "  138142624389968: TensorSpec(shape=(), dtype=tf.resource, name=None)\n",
            "  138142624384592: TensorSpec(shape=(), dtype=tf.resource, name=None)\n",
            "  138142624392848: TensorSpec(shape=(), dtype=tf.resource, name=None)\n",
            "  138142624385936: TensorSpec(shape=(), dtype=tf.resource, name=None)\n",
            "  138142624399184: TensorSpec(shape=(), dtype=tf.resource, name=None)\n",
            "  138142624386896: TensorSpec(shape=(), dtype=tf.resource, name=None)\n",
            "  138142624395920: TensorSpec(shape=(), dtype=tf.resource, name=None)\n",
            "  138142624384400: TensorSpec(shape=(), dtype=tf.resource, name=None)\n",
            "  138142624383440: TensorSpec(shape=(), dtype=tf.resource, name=None)\n",
            "  138142624390352: TensorSpec(shape=(), dtype=tf.resource, name=None)\n",
            "  138142624394960: TensorSpec(shape=(), dtype=tf.resource, name=None)\n",
            "  138142624396496: TensorSpec(shape=(), dtype=tf.resource, name=None)\n",
            "  138142624395344: TensorSpec(shape=(), dtype=tf.resource, name=None)\n",
            "  138142624394192: TensorSpec(shape=(), dtype=tf.resource, name=None)\n",
            "  138142624397072: TensorSpec(shape=(), dtype=tf.resource, name=None)\n",
            "  138142624387472: TensorSpec(shape=(), dtype=tf.resource, name=None)\n",
            "  138136821241936: TensorSpec(shape=(), dtype=tf.resource, name=None)\n",
            "  138142624391120: TensorSpec(shape=(), dtype=tf.resource, name=None)\n",
            "  138142624389392: TensorSpec(shape=(), dtype=tf.resource, name=None)\n",
            "  138136821246928: TensorSpec(shape=(), dtype=tf.resource, name=None)\n",
            "  138136821245392: TensorSpec(shape=(), dtype=tf.resource, name=None)\n",
            "  138136821242320: TensorSpec(shape=(), dtype=tf.resource, name=None)\n",
            "  138136821245008: TensorSpec(shape=(), dtype=tf.resource, name=None)\n",
            "  138136821242704: TensorSpec(shape=(), dtype=tf.resource, name=None)\n",
            "  138136821248272: TensorSpec(shape=(), dtype=tf.resource, name=None)\n",
            "  138136763897360: TensorSpec(shape=(), dtype=tf.resource, name=None)\n",
            "  138136763894864: TensorSpec(shape=(), dtype=tf.resource, name=None)\n",
            "  138136821245968: TensorSpec(shape=(), dtype=tf.resource, name=None)\n",
            "  138136821245584: TensorSpec(shape=(), dtype=tf.resource, name=None)\n",
            "  138136763898704: TensorSpec(shape=(), dtype=tf.resource, name=None)\n",
            "  138136763901200: TensorSpec(shape=(), dtype=tf.resource, name=None)\n",
            "  138136763893712: TensorSpec(shape=(), dtype=tf.resource, name=None)\n",
            "  138136763899088: TensorSpec(shape=(), dtype=tf.resource, name=None)\n",
            "  138136763898896: TensorSpec(shape=(), dtype=tf.resource, name=None)\n",
            "  138136763891984: TensorSpec(shape=(), dtype=tf.resource, name=None)\n",
            "  138136763893520: TensorSpec(shape=(), dtype=tf.resource, name=None)\n",
            "  138136763904272: TensorSpec(shape=(), dtype=tf.resource, name=None)\n",
            "  138136763894672: TensorSpec(shape=(), dtype=tf.resource, name=None)\n",
            "  138136763893328: TensorSpec(shape=(), dtype=tf.resource, name=None)\n",
            "  138136763903888: TensorSpec(shape=(), dtype=tf.resource, name=None)\n",
            "  138136763905616: TensorSpec(shape=(), dtype=tf.resource, name=None)\n",
            "  138136763904848: TensorSpec(shape=(), dtype=tf.resource, name=None)\n",
            "  138136763905424: TensorSpec(shape=(), dtype=tf.resource, name=None)\n",
            "  138136763898512: TensorSpec(shape=(), dtype=tf.resource, name=None)\n",
            "  138136763904464: TensorSpec(shape=(), dtype=tf.resource, name=None)\n",
            "  138136763896592: TensorSpec(shape=(), dtype=tf.resource, name=None)\n",
            "  138136757276304: TensorSpec(shape=(), dtype=tf.resource, name=None)\n",
            "  138136763907344: TensorSpec(shape=(), dtype=tf.resource, name=None)\n",
            "  138136763901392: TensorSpec(shape=(), dtype=tf.resource, name=None)\n",
            "  138136757274576: TensorSpec(shape=(), dtype=tf.resource, name=None)\n",
            "  138136757276688: TensorSpec(shape=(), dtype=tf.resource, name=None)\n",
            "  138136757280144: TensorSpec(shape=(), dtype=tf.resource, name=None)\n",
            "  138136757272656: TensorSpec(shape=(), dtype=tf.resource, name=None)\n",
            "  138136757274192: TensorSpec(shape=(), dtype=tf.resource, name=None)\n",
            "  138136757278416: TensorSpec(shape=(), dtype=tf.resource, name=None)\n",
            "  138136757280528: TensorSpec(shape=(), dtype=tf.resource, name=None)\n",
            "  138136757283984: TensorSpec(shape=(), dtype=tf.resource, name=None)\n",
            "  138136757275728: TensorSpec(shape=(), dtype=tf.resource, name=None)\n",
            "  138136757277840: TensorSpec(shape=(), dtype=tf.resource, name=None)\n",
            "  138136757282256: TensorSpec(shape=(), dtype=tf.resource, name=None)\n",
            "  138136757284368: TensorSpec(shape=(), dtype=tf.resource, name=None)\n",
            "  138136757273040: TensorSpec(shape=(), dtype=tf.resource, name=None)\n",
            "  138136757279568: TensorSpec(shape=(), dtype=tf.resource, name=None)\n",
            "  138136757273424: TensorSpec(shape=(), dtype=tf.resource, name=None)\n",
            "  138136757286096: TensorSpec(shape=(), dtype=tf.resource, name=None)\n",
            "  138136757288400: TensorSpec(shape=(), dtype=tf.resource, name=None)\n",
            "  138136757286864: TensorSpec(shape=(), dtype=tf.resource, name=None)\n",
            "  138136757287632: TensorSpec(shape=(), dtype=tf.resource, name=None)\n",
            "  138136757277648: TensorSpec(shape=(), dtype=tf.resource, name=None)\n",
            "  138136761492176: TensorSpec(shape=(), dtype=tf.resource, name=None)\n",
            "  138136761486032: TensorSpec(shape=(), dtype=tf.resource, name=None)\n",
            "  138136761489296: TensorSpec(shape=(), dtype=tf.resource, name=None)\n",
            "  138136761484112: TensorSpec(shape=(), dtype=tf.resource, name=None)\n",
            "  138136761485264: TensorSpec(shape=(), dtype=tf.resource, name=None)\n",
            "  138136761487952: TensorSpec(shape=(), dtype=tf.resource, name=None)\n",
            "  138136761483344: TensorSpec(shape=(), dtype=tf.resource, name=None)\n",
            "  138136761490448: TensorSpec(shape=(), dtype=tf.resource, name=None)\n",
            "  138136761483536: TensorSpec(shape=(), dtype=tf.resource, name=None)\n",
            "  138136753842192: TensorSpec(shape=(), dtype=tf.resource, name=None)\n",
            "  138136753846608: TensorSpec(shape=(), dtype=tf.resource, name=None)\n",
            "  138136682610768: TensorSpec(shape=(), dtype=tf.resource, name=None)\n",
            "  138136682617488: TensorSpec(shape=(), dtype=tf.resource, name=None)\n",
            "  138136682613648: TensorSpec(shape=(), dtype=tf.resource, name=None)\n",
            "  138136682615184: TensorSpec(shape=(), dtype=tf.resource, name=None)\n",
            "  138136682614608: TensorSpec(shape=(), dtype=tf.resource, name=None)\n",
            "  138136682619216: TensorSpec(shape=(), dtype=tf.resource, name=None)\n",
            "  138136682623248: TensorSpec(shape=(), dtype=tf.resource, name=None)\n",
            "  138136682618448: TensorSpec(shape=(), dtype=tf.resource, name=None)\n",
            "  138136682619408: TensorSpec(shape=(), dtype=tf.resource, name=None)\n",
            "  138136682618640: TensorSpec(shape=(), dtype=tf.resource, name=None)\n",
            "  138136682623056: TensorSpec(shape=(), dtype=tf.resource, name=None)\n",
            "  138136682624400: TensorSpec(shape=(), dtype=tf.resource, name=None)\n",
            "  138136682622288: TensorSpec(shape=(), dtype=tf.resource, name=None)\n",
            "  138136682610960: TensorSpec(shape=(), dtype=tf.resource, name=None)\n",
            "  138136682622480: TensorSpec(shape=(), dtype=tf.resource, name=None)\n",
            "  138136682611536: TensorSpec(shape=(), dtype=tf.resource, name=None)\n",
            "  138136682626128: TensorSpec(shape=(), dtype=tf.resource, name=None)\n",
            "  138136682626512: TensorSpec(shape=(), dtype=tf.resource, name=None)\n",
            "  138136682620368: TensorSpec(shape=(), dtype=tf.resource, name=None)\n",
            "  138136675986768: TensorSpec(shape=(), dtype=tf.resource, name=None)\n",
            "  138136675986576: TensorSpec(shape=(), dtype=tf.resource, name=None)\n",
            "  138136675983888: TensorSpec(shape=(), dtype=tf.resource, name=None)\n",
            "  138136675985616: TensorSpec(shape=(), dtype=tf.resource, name=None)\n",
            "  138136675979664: TensorSpec(shape=(), dtype=tf.resource, name=None)\n",
            "  138136675988688: TensorSpec(shape=(), dtype=tf.resource, name=None)\n",
            "  138136675988496: TensorSpec(shape=(), dtype=tf.resource, name=None)\n",
            "  138136675985040: TensorSpec(shape=(), dtype=tf.resource, name=None)\n",
            "  138136675988112: TensorSpec(shape=(), dtype=tf.resource, name=None)\n",
            "  138136675984464: TensorSpec(shape=(), dtype=tf.resource, name=None)\n",
            "  138136675990608: TensorSpec(shape=(), dtype=tf.resource, name=None)\n",
            "  138136675990416: TensorSpec(shape=(), dtype=tf.resource, name=None)\n",
            "  138136675985232: TensorSpec(shape=(), dtype=tf.resource, name=None)\n",
            "  138136675990032: TensorSpec(shape=(), dtype=tf.resource, name=None)\n",
            "  138136675986960: TensorSpec(shape=(), dtype=tf.resource, name=None)\n",
            "  138136675987536: TensorSpec(shape=(), dtype=tf.resource, name=None)\n",
            "  138136675983312: TensorSpec(shape=(), dtype=tf.resource, name=None)\n",
            "  138136675976208: TensorSpec(shape=(), dtype=tf.resource, name=None)\n",
            "  138136675981200: TensorSpec(shape=(), dtype=tf.resource, name=None)\n",
            "  138136675988304: TensorSpec(shape=(), dtype=tf.resource, name=None)\n",
            "  138136675975248: TensorSpec(shape=(), dtype=tf.resource, name=None)\n",
            "  138136675980624: TensorSpec(shape=(), dtype=tf.resource, name=None)\n",
            "  138136675977936: TensorSpec(shape=(), dtype=tf.resource, name=None)\n",
            "  138136675977168: TensorSpec(shape=(), dtype=tf.resource, name=None)\n",
            "  138136675990224: TensorSpec(shape=(), dtype=tf.resource, name=None)\n",
            "  138136675977360: TensorSpec(shape=(), dtype=tf.resource, name=None)\n",
            "  138136675979088: TensorSpec(shape=(), dtype=tf.resource, name=None)\n",
            "  138136675978320: TensorSpec(shape=(), dtype=tf.resource, name=None)\n",
            "  138136675981008: TensorSpec(shape=(), dtype=tf.resource, name=None)\n",
            "  138136675991376: TensorSpec(shape=(), dtype=tf.resource, name=None)\n",
            "  138136675982736: TensorSpec(shape=(), dtype=tf.resource, name=None)\n",
            "  138136677993936: TensorSpec(shape=(), dtype=tf.resource, name=None)\n",
            "  138136677993168: TensorSpec(shape=(), dtype=tf.resource, name=None)\n",
            "  138136677992208: TensorSpec(shape=(), dtype=tf.resource, name=None)\n",
            "  138136677990672: TensorSpec(shape=(), dtype=tf.resource, name=None)\n",
            "  138136677991056: TensorSpec(shape=(), dtype=tf.resource, name=None)\n",
            "  138136681227344: TensorSpec(shape=(), dtype=tf.resource, name=None)\n",
            "  138136681229456: TensorSpec(shape=(), dtype=tf.resource, name=None)\n",
            "  138136681228688: TensorSpec(shape=(), dtype=tf.resource, name=None)\n",
            "  138136681224272: TensorSpec(shape=(), dtype=tf.resource, name=None)\n",
            "  138136681234064: TensorSpec(shape=(), dtype=tf.resource, name=None)\n",
            "  138136681233296: TensorSpec(shape=(), dtype=tf.resource, name=None)\n",
            "  138136681233488: TensorSpec(shape=(), dtype=tf.resource, name=None)\n",
            "  138136681233872: TensorSpec(shape=(), dtype=tf.resource, name=None)\n",
            "  138136681219664: TensorSpec(shape=(), dtype=tf.resource, name=None)\n",
            "  138136681228304: TensorSpec(shape=(), dtype=tf.resource, name=None)\n",
            "  138136681225424: TensorSpec(shape=(), dtype=tf.resource, name=None)\n",
            "  138136681222544: TensorSpec(shape=(), dtype=tf.resource, name=None)\n",
            "  138136681219088: TensorSpec(shape=(), dtype=tf.resource, name=None)\n",
            "  138136681221776: TensorSpec(shape=(), dtype=tf.resource, name=None)\n",
            "  138136681224080: TensorSpec(shape=(), dtype=tf.resource, name=None)\n",
            "  138136681220624: TensorSpec(shape=(), dtype=tf.resource, name=None)\n",
            "  138136681224464: TensorSpec(shape=(), dtype=tf.resource, name=None)\n",
            "  138136681220816: TensorSpec(shape=(), dtype=tf.resource, name=None)\n",
            "  138136681226384: TensorSpec(shape=(), dtype=tf.resource, name=None)\n",
            "  138136681222736: TensorSpec(shape=(), dtype=tf.resource, name=None)\n",
            "  138136672895248: TensorSpec(shape=(), dtype=tf.resource, name=None)\n",
            "  138136672896592: TensorSpec(shape=(), dtype=tf.resource, name=None)\n",
            "  138136681218320: TensorSpec(shape=(), dtype=tf.resource, name=None)\n",
            "  138136681229840: TensorSpec(shape=(), dtype=tf.resource, name=None)\n",
            "  138136672895440: TensorSpec(shape=(), dtype=tf.resource, name=None)\n",
            "  138136672898128: TensorSpec(shape=(), dtype=tf.resource, name=None)\n",
            "  138136672898512: TensorSpec(shape=(), dtype=tf.resource, name=None)\n",
            "  138136672899088: TensorSpec(shape=(), dtype=tf.resource, name=None)\n",
            "  138136672907920: TensorSpec(shape=(), dtype=tf.resource, name=None)\n",
            "  138136672896016: TensorSpec(shape=(), dtype=tf.resource, name=None)\n",
            "  138136672900048: TensorSpec(shape=(), dtype=tf.resource, name=None)\n",
            "  138136672900432: TensorSpec(shape=(), dtype=tf.resource, name=None)\n",
            "  138136672901008: TensorSpec(shape=(), dtype=tf.resource, name=None)\n",
            "  138136672910608: TensorSpec(shape=(), dtype=tf.resource, name=None)\n",
            "  138136672896208: TensorSpec(shape=(), dtype=tf.resource, name=None)\n",
            "  138136672901968: TensorSpec(shape=(), dtype=tf.resource, name=None)\n",
            "  138136672902352: TensorSpec(shape=(), dtype=tf.resource, name=None)\n",
            "  138136672902928: TensorSpec(shape=(), dtype=tf.resource, name=None)\n",
            "  138136672896784: TensorSpec(shape=(), dtype=tf.resource, name=None)\n",
            "  138136672897744: TensorSpec(shape=(), dtype=tf.resource, name=None)\n",
            "  138136672903888: TensorSpec(shape=(), dtype=tf.resource, name=None)\n",
            "  138136672904272: TensorSpec(shape=(), dtype=tf.resource, name=None)\n",
            "  138136672904848: TensorSpec(shape=(), dtype=tf.resource, name=None)\n",
            "  138136672898704: TensorSpec(shape=(), dtype=tf.resource, name=None)\n",
            "  138136672899664: TensorSpec(shape=(), dtype=tf.resource, name=None)\n",
            "  138136672905808: TensorSpec(shape=(), dtype=tf.resource, name=None)\n",
            "  138136672906192: TensorSpec(shape=(), dtype=tf.resource, name=None)\n",
            "  138136672906768: TensorSpec(shape=(), dtype=tf.resource, name=None)\n",
            "  138136672900624: TensorSpec(shape=(), dtype=tf.resource, name=None)\n",
            "  138136672901584: TensorSpec(shape=(), dtype=tf.resource, name=None)\n",
            "  138136672910032: TensorSpec(shape=(), dtype=tf.resource, name=None)\n",
            "  138136672907344: TensorSpec(shape=(), dtype=tf.resource, name=None)\n",
            "  138136672906960: TensorSpec(shape=(), dtype=tf.resource, name=None)\n",
            "  138136672902544: TensorSpec(shape=(), dtype=tf.resource, name=None)\n",
            "  138136672907536: TensorSpec(shape=(), dtype=tf.resource, name=None)\n",
            "  138136672910416: TensorSpec(shape=(), dtype=tf.resource, name=None)\n",
            "  138136672910224: TensorSpec(shape=(), dtype=tf.resource, name=None)\n",
            "  138136672911184: TensorSpec(shape=(), dtype=tf.resource, name=None)\n",
            "  138136672904464: TensorSpec(shape=(), dtype=tf.resource, name=None)\n",
            "  138136672908112: TensorSpec(shape=(), dtype=tf.resource, name=None)\n",
            "  138142639038032: TensorSpec(shape=(), dtype=tf.resource, name=None)\n",
            "  138136550581904: TensorSpec(shape=(), dtype=tf.resource, name=None)\n",
            "  138142639038224: TensorSpec(shape=(), dtype=tf.resource, name=None)\n",
            "  138136672906384: TensorSpec(shape=(), dtype=tf.resource, name=None)\n",
            "  138136550580752: TensorSpec(shape=(), dtype=tf.resource, name=None)\n",
            "  138136550574416: TensorSpec(shape=(), dtype=tf.resource, name=None)\n",
            "  138136550581520: TensorSpec(shape=(), dtype=tf.resource, name=None)\n",
            "  138136550581328: TensorSpec(shape=(), dtype=tf.resource, name=None)\n",
            "  138136550582672: TensorSpec(shape=(), dtype=tf.resource, name=None)\n",
            "  138136550584208: TensorSpec(shape=(), dtype=tf.resource, name=None)\n",
            "  138136550584592: TensorSpec(shape=(), dtype=tf.resource, name=None)\n",
            "  138136550584784: TensorSpec(shape=(), dtype=tf.resource, name=None)\n",
            "  138136550583056: TensorSpec(shape=(), dtype=tf.resource, name=None)\n",
            "  138136550582864: TensorSpec(shape=(), dtype=tf.resource, name=None)\n",
            "  138136550585936: TensorSpec(shape=(), dtype=tf.resource, name=None)\n",
            "  138136550586320: TensorSpec(shape=(), dtype=tf.resource, name=None)\n",
            "  138136550586704: TensorSpec(shape=(), dtype=tf.resource, name=None)\n",
            "  138136550586512: TensorSpec(shape=(), dtype=tf.resource, name=None)\n",
            "  138136550582096: TensorSpec(shape=(), dtype=tf.resource, name=None)\n",
            "  138136550587856: TensorSpec(shape=(), dtype=tf.resource, name=None)\n",
            "  138136550583248: TensorSpec(shape=(), dtype=tf.resource, name=None)\n",
            "  138136550588240: TensorSpec(shape=(), dtype=tf.resource, name=None)\n",
            "  138136550588048: TensorSpec(shape=(), dtype=tf.resource, name=None)\n",
            "  138136550585552: TensorSpec(shape=(), dtype=tf.resource, name=None)\n",
            "  138136683021712: TensorSpec(shape=(), dtype=tf.resource, name=None)\n",
            "  138136683022096: TensorSpec(shape=(), dtype=tf.resource, name=None)\n",
            "  138136683022480: TensorSpec(shape=(), dtype=tf.resource, name=None)\n",
            "  138136683022288: TensorSpec(shape=(), dtype=tf.resource, name=None)\n",
            "  138136683020560: TensorSpec(shape=(), dtype=tf.resource, name=None)\n",
            "  138136683023632: TensorSpec(shape=(), dtype=tf.resource, name=None)\n",
            "  138136683024016: TensorSpec(shape=(), dtype=tf.resource, name=None)\n",
            "  138136683024400: TensorSpec(shape=(), dtype=tf.resource, name=None)\n",
            "  138136683024208: TensorSpec(shape=(), dtype=tf.resource, name=None)\n",
            "  138136683020368: TensorSpec(shape=(), dtype=tf.resource, name=None)\n",
            "  138136683025552: TensorSpec(shape=(), dtype=tf.resource, name=None)\n",
            "  138136683025936: TensorSpec(shape=(), dtype=tf.resource, name=None)\n",
            "  138136683026320: TensorSpec(shape=(), dtype=tf.resource, name=None)\n",
            "  138136683026128: TensorSpec(shape=(), dtype=tf.resource, name=None)\n",
            "  138136683021136: TensorSpec(shape=(), dtype=tf.resource, name=None)\n",
            "  138136683027472: TensorSpec(shape=(), dtype=tf.resource, name=None)\n",
            "  138136683027856: TensorSpec(shape=(), dtype=tf.resource, name=None)\n",
            "  138136683028240: TensorSpec(shape=(), dtype=tf.resource, name=None)\n",
            "  138136683028048: TensorSpec(shape=(), dtype=tf.resource, name=None)\n",
            "  138136683023248: TensorSpec(shape=(), dtype=tf.resource, name=None)\n",
            "  138136683029392: TensorSpec(shape=(), dtype=tf.resource, name=None)\n",
            "  138136683029776: TensorSpec(shape=(), dtype=tf.resource, name=None)\n",
            "  138136683030160: TensorSpec(shape=(), dtype=tf.resource, name=None)\n",
            "  138136683029968: TensorSpec(shape=(), dtype=tf.resource, name=None)\n",
            "  138136683025168: TensorSpec(shape=(), dtype=tf.resource, name=None)\n",
            "  138136683031312: TensorSpec(shape=(), dtype=tf.resource, name=None)\n",
            "  138136683032080: TensorSpec(shape=(), dtype=tf.resource, name=None)\n",
            "  138136683030544: TensorSpec(shape=(), dtype=tf.resource, name=None)\n",
            "  138136683033424: TensorSpec(shape=(), dtype=tf.resource, name=None)\n"
          ]
        }
      ],
      "source": [
        "model.export(\"saved_model_rice\")"
      ]
    },
    {
      "cell_type": "code",
      "source": [
        "# Buat direktori jika belum ada\n",
        "import os\n",
        "os.makedirs(\"tflite\", exist_ok=True)\n",
        "\n",
        "# Konversi model ke TFLite\n",
        "converter = tf.lite.TFLiteConverter.from_saved_model(\"saved_model_rice\")\n",
        "tflite_model = converter.convert()\n",
        "\n",
        "# Simpan hasil model TFLite\n",
        "with open(\"tflite/model.tflite\", \"wb\") as f:\n",
        "    f.write(tflite_model)\n",
        "\n",
        "# Simpan label (opsional, jika diperlukan)\n",
        "labels = [\"Arborio\", \"Basmati\", \"Ipsala\", \"Jasmine\", \"Karacadag\"]\n",
        "with open(\"tflite/label.txt\", \"w\") as f:\n",
        "    f.write(\"\\n\".join(labels))\n"
      ],
      "metadata": {
        "id": "fN8S9nhRLwck"
      },
      "execution_count": 50,
      "outputs": []
    },
    {
      "cell_type": "code",
      "source": [
        "!pip install tensorflowjs\n",
        "\n",
        "# Buat folder output TFJS jika belum ada\n",
        "import os\n",
        "os.makedirs(\"tfjs_model\", exist_ok=True)\n",
        "\n",
        "# Konversi model ke format TensorFlow.js\n",
        "!tensorflowjs_converter --input_format=tf_saved_model --saved_model_tags=serve saved_model_rice tfjs_model\n"
      ],
      "metadata": {
        "colab": {
          "base_uri": "https://localhost:8080/"
        },
        "id": "43zFrZPhRQl7",
        "outputId": "e2d2b319-3f20-4cd0-ed76-990435194fbd"
      },
      "execution_count": 54,
      "outputs": [
        {
          "output_type": "stream",
          "name": "stdout",
          "text": [
            "Collecting tensorflowjs\n",
            "  Downloading tensorflowjs-4.22.0-py3-none-any.whl.metadata (3.2 kB)\n",
            "Requirement already satisfied: flax>=0.7.2 in /usr/local/lib/python3.11/dist-packages (from tensorflowjs) (0.10.3)\n",
            "Requirement already satisfied: importlib_resources>=5.9.0 in /usr/local/lib/python3.11/dist-packages (from tensorflowjs) (6.5.2)\n",
            "Requirement already satisfied: jax>=0.4.13 in /usr/local/lib/python3.11/dist-packages (from tensorflowjs) (0.4.33)\n",
            "Requirement already satisfied: jaxlib>=0.4.13 in /usr/local/lib/python3.11/dist-packages (from tensorflowjs) (0.4.33)\n",
            "Requirement already satisfied: tensorflow<3,>=2.13.0 in /usr/local/lib/python3.11/dist-packages (from tensorflowjs) (2.18.0)\n",
            "Requirement already satisfied: tf-keras>=2.13.0 in /usr/local/lib/python3.11/dist-packages (from tensorflowjs) (2.18.0)\n",
            "Collecting tensorflow-decision-forests>=1.5.0 (from tensorflowjs)\n",
            "  Downloading tensorflow_decision_forests-1.11.0-cp311-cp311-manylinux_2_17_x86_64.manylinux2014_x86_64.whl.metadata (6.0 kB)\n",
            "Requirement already satisfied: six<2,>=1.16.0 in /usr/local/lib/python3.11/dist-packages (from tensorflowjs) (1.17.0)\n",
            "Requirement already satisfied: tensorflow-hub>=0.16.1 in /usr/local/lib/python3.11/dist-packages (from tensorflowjs) (0.16.1)\n",
            "Collecting packaging~=23.1 (from tensorflowjs)\n",
            "  Downloading packaging-23.2-py3-none-any.whl.metadata (3.2 kB)\n",
            "Requirement already satisfied: numpy>=1.23.2 in /usr/local/lib/python3.11/dist-packages (from flax>=0.7.2->tensorflowjs) (1.26.4)\n",
            "Requirement already satisfied: msgpack in /usr/local/lib/python3.11/dist-packages (from flax>=0.7.2->tensorflowjs) (1.1.0)\n",
            "Requirement already satisfied: optax in /usr/local/lib/python3.11/dist-packages (from flax>=0.7.2->tensorflowjs) (0.2.4)\n",
            "Requirement already satisfied: orbax-checkpoint in /usr/local/lib/python3.11/dist-packages (from flax>=0.7.2->tensorflowjs) (0.6.4)\n",
            "Requirement already satisfied: tensorstore in /usr/local/lib/python3.11/dist-packages (from flax>=0.7.2->tensorflowjs) (0.1.72)\n",
            "Requirement already satisfied: rich>=11.1 in /usr/local/lib/python3.11/dist-packages (from flax>=0.7.2->tensorflowjs) (13.9.4)\n",
            "Requirement already satisfied: typing_extensions>=4.2 in /usr/local/lib/python3.11/dist-packages (from flax>=0.7.2->tensorflowjs) (4.12.2)\n",
            "Requirement already satisfied: PyYAML>=5.4.1 in /usr/local/lib/python3.11/dist-packages (from flax>=0.7.2->tensorflowjs) (6.0.2)\n",
            "Requirement already satisfied: treescope>=0.1.7 in /usr/local/lib/python3.11/dist-packages (from flax>=0.7.2->tensorflowjs) (0.1.9)\n",
            "Requirement already satisfied: ml-dtypes>=0.2.0 in /usr/local/lib/python3.11/dist-packages (from jax>=0.4.13->tensorflowjs) (0.4.1)\n",
            "Requirement already satisfied: opt-einsum in /usr/local/lib/python3.11/dist-packages (from jax>=0.4.13->tensorflowjs) (3.4.0)\n",
            "Requirement already satisfied: scipy>=1.10 in /usr/local/lib/python3.11/dist-packages (from jax>=0.4.13->tensorflowjs) (1.13.1)\n",
            "Requirement already satisfied: absl-py>=1.0.0 in /usr/local/lib/python3.11/dist-packages (from tensorflow<3,>=2.13.0->tensorflowjs) (1.4.0)\n",
            "Requirement already satisfied: astunparse>=1.6.0 in /usr/local/lib/python3.11/dist-packages (from tensorflow<3,>=2.13.0->tensorflowjs) (1.6.3)\n",
            "Requirement already satisfied: flatbuffers>=24.3.25 in /usr/local/lib/python3.11/dist-packages (from tensorflow<3,>=2.13.0->tensorflowjs) (25.2.10)\n",
            "Requirement already satisfied: gast!=0.5.0,!=0.5.1,!=0.5.2,>=0.2.1 in /usr/local/lib/python3.11/dist-packages (from tensorflow<3,>=2.13.0->tensorflowjs) (0.6.0)\n",
            "Requirement already satisfied: google-pasta>=0.1.1 in /usr/local/lib/python3.11/dist-packages (from tensorflow<3,>=2.13.0->tensorflowjs) (0.2.0)\n",
            "Requirement already satisfied: libclang>=13.0.0 in /usr/local/lib/python3.11/dist-packages (from tensorflow<3,>=2.13.0->tensorflowjs) (18.1.1)\n",
            "Requirement already satisfied: protobuf!=4.21.0,!=4.21.1,!=4.21.2,!=4.21.3,!=4.21.4,!=4.21.5,<6.0.0dev,>=3.20.3 in /usr/local/lib/python3.11/dist-packages (from tensorflow<3,>=2.13.0->tensorflowjs) (4.25.6)\n",
            "Requirement already satisfied: requests<3,>=2.21.0 in /usr/local/lib/python3.11/dist-packages (from tensorflow<3,>=2.13.0->tensorflowjs) (2.32.3)\n",
            "Requirement already satisfied: setuptools in /usr/local/lib/python3.11/dist-packages (from tensorflow<3,>=2.13.0->tensorflowjs) (75.1.0)\n",
            "Requirement already satisfied: termcolor>=1.1.0 in /usr/local/lib/python3.11/dist-packages (from tensorflow<3,>=2.13.0->tensorflowjs) (2.5.0)\n",
            "Requirement already satisfied: wrapt>=1.11.0 in /usr/local/lib/python3.11/dist-packages (from tensorflow<3,>=2.13.0->tensorflowjs) (1.17.2)\n",
            "Requirement already satisfied: grpcio<2.0,>=1.24.3 in /usr/local/lib/python3.11/dist-packages (from tensorflow<3,>=2.13.0->tensorflowjs) (1.70.0)\n",
            "Requirement already satisfied: tensorboard<2.19,>=2.18 in /usr/local/lib/python3.11/dist-packages (from tensorflow<3,>=2.13.0->tensorflowjs) (2.18.0)\n",
            "Requirement already satisfied: keras>=3.5.0 in /usr/local/lib/python3.11/dist-packages (from tensorflow<3,>=2.13.0->tensorflowjs) (3.8.0)\n",
            "Requirement already satisfied: h5py>=3.11.0 in /usr/local/lib/python3.11/dist-packages (from tensorflow<3,>=2.13.0->tensorflowjs) (3.12.1)\n",
            "Requirement already satisfied: tensorflow-io-gcs-filesystem>=0.23.1 in /usr/local/lib/python3.11/dist-packages (from tensorflow<3,>=2.13.0->tensorflowjs) (0.37.1)\n",
            "Requirement already satisfied: pandas in /usr/local/lib/python3.11/dist-packages (from tensorflow-decision-forests>=1.5.0->tensorflowjs) (2.2.2)\n",
            "Requirement already satisfied: wheel in /usr/local/lib/python3.11/dist-packages (from tensorflow-decision-forests>=1.5.0->tensorflowjs) (0.45.1)\n",
            "Collecting wurlitzer (from tensorflow-decision-forests>=1.5.0->tensorflowjs)\n",
            "  Downloading wurlitzer-3.1.1-py3-none-any.whl.metadata (2.5 kB)\n",
            "Collecting ydf (from tensorflow-decision-forests>=1.5.0->tensorflowjs)\n",
            "  Downloading ydf-0.10.0-cp311-cp311-manylinux_2_17_x86_64.manylinux2014_x86_64.whl.metadata (3.5 kB)\n",
            "Requirement already satisfied: namex in /usr/local/lib/python3.11/dist-packages (from keras>=3.5.0->tensorflow<3,>=2.13.0->tensorflowjs) (0.0.8)\n",
            "Requirement already satisfied: optree in /usr/local/lib/python3.11/dist-packages (from keras>=3.5.0->tensorflow<3,>=2.13.0->tensorflowjs) (0.14.0)\n",
            "Requirement already satisfied: charset-normalizer<4,>=2 in /usr/local/lib/python3.11/dist-packages (from requests<3,>=2.21.0->tensorflow<3,>=2.13.0->tensorflowjs) (3.4.1)\n",
            "Requirement already satisfied: idna<4,>=2.5 in /usr/local/lib/python3.11/dist-packages (from requests<3,>=2.21.0->tensorflow<3,>=2.13.0->tensorflowjs) (3.10)\n",
            "Requirement already satisfied: urllib3<3,>=1.21.1 in /usr/local/lib/python3.11/dist-packages (from requests<3,>=2.21.0->tensorflow<3,>=2.13.0->tensorflowjs) (2.3.0)\n",
            "Requirement already satisfied: certifi>=2017.4.17 in /usr/local/lib/python3.11/dist-packages (from requests<3,>=2.21.0->tensorflow<3,>=2.13.0->tensorflowjs) (2025.1.31)\n",
            "Requirement already satisfied: markdown-it-py>=2.2.0 in /usr/local/lib/python3.11/dist-packages (from rich>=11.1->flax>=0.7.2->tensorflowjs) (3.0.0)\n",
            "Requirement already satisfied: pygments<3.0.0,>=2.13.0 in /usr/local/lib/python3.11/dist-packages (from rich>=11.1->flax>=0.7.2->tensorflowjs) (2.18.0)\n",
            "Requirement already satisfied: markdown>=2.6.8 in /usr/local/lib/python3.11/dist-packages (from tensorboard<2.19,>=2.18->tensorflow<3,>=2.13.0->tensorflowjs) (3.7)\n",
            "Requirement already satisfied: tensorboard-data-server<0.8.0,>=0.7.0 in /usr/local/lib/python3.11/dist-packages (from tensorboard<2.19,>=2.18->tensorflow<3,>=2.13.0->tensorflowjs) (0.7.2)\n",
            "Requirement already satisfied: werkzeug>=1.0.1 in /usr/local/lib/python3.11/dist-packages (from tensorboard<2.19,>=2.18->tensorflow<3,>=2.13.0->tensorflowjs) (3.1.3)\n",
            "Requirement already satisfied: chex>=0.1.87 in /usr/local/lib/python3.11/dist-packages (from optax->flax>=0.7.2->tensorflowjs) (0.1.89)\n",
            "Requirement already satisfied: etils[epy] in /usr/local/lib/python3.11/dist-packages (from optax->flax>=0.7.2->tensorflowjs) (1.12.0)\n",
            "Requirement already satisfied: nest_asyncio in /usr/local/lib/python3.11/dist-packages (from orbax-checkpoint->flax>=0.7.2->tensorflowjs) (1.6.0)\n",
            "Requirement already satisfied: humanize in /usr/local/lib/python3.11/dist-packages (from orbax-checkpoint->flax>=0.7.2->tensorflowjs) (4.11.0)\n",
            "Requirement already satisfied: python-dateutil>=2.8.2 in /usr/local/lib/python3.11/dist-packages (from pandas->tensorflow-decision-forests>=1.5.0->tensorflowjs) (2.8.2)\n",
            "Requirement already satisfied: pytz>=2020.1 in /usr/local/lib/python3.11/dist-packages (from pandas->tensorflow-decision-forests>=1.5.0->tensorflowjs) (2025.1)\n",
            "Requirement already satisfied: tzdata>=2022.7 in /usr/local/lib/python3.11/dist-packages (from pandas->tensorflow-decision-forests>=1.5.0->tensorflowjs) (2025.1)\n",
            "Collecting protobuf!=4.21.0,!=4.21.1,!=4.21.2,!=4.21.3,!=4.21.4,!=4.21.5,<6.0.0dev,>=3.20.3 (from tensorflow<3,>=2.13.0->tensorflowjs)\n",
            "  Downloading protobuf-5.29.3-cp38-abi3-manylinux2014_x86_64.whl.metadata (592 bytes)\n",
            "Requirement already satisfied: toolz>=0.9.0 in /usr/local/lib/python3.11/dist-packages (from chex>=0.1.87->optax->flax>=0.7.2->tensorflowjs) (0.12.1)\n",
            "Requirement already satisfied: mdurl~=0.1 in /usr/local/lib/python3.11/dist-packages (from markdown-it-py>=2.2.0->rich>=11.1->flax>=0.7.2->tensorflowjs) (0.1.2)\n",
            "Requirement already satisfied: MarkupSafe>=2.1.1 in /usr/local/lib/python3.11/dist-packages (from werkzeug>=1.0.1->tensorboard<2.19,>=2.18->tensorflow<3,>=2.13.0->tensorflowjs) (3.0.2)\n",
            "Requirement already satisfied: fsspec in /usr/local/lib/python3.11/dist-packages (from etils[epath,epy]->orbax-checkpoint->flax>=0.7.2->tensorflowjs) (2024.10.0)\n",
            "Requirement already satisfied: zipp in /usr/local/lib/python3.11/dist-packages (from etils[epath,epy]->orbax-checkpoint->flax>=0.7.2->tensorflowjs) (3.21.0)\n",
            "Downloading tensorflowjs-4.22.0-py3-none-any.whl (89 kB)\n",
            "\u001b[2K   \u001b[90m━━━━━━━━━━━━━━━━━━━━━━━━━━━━━━━━━━━━━━━━\u001b[0m \u001b[32m89.1/89.1 kB\u001b[0m \u001b[31m6.4 MB/s\u001b[0m eta \u001b[36m0:00:00\u001b[0m\n",
            "\u001b[?25hDownloading packaging-23.2-py3-none-any.whl (53 kB)\n",
            "\u001b[2K   \u001b[90m━━━━━━━━━━━━━━━━━━━━━━━━━━━━━━━━━━━━━━━━\u001b[0m \u001b[32m53.0/53.0 kB\u001b[0m \u001b[31m3.7 MB/s\u001b[0m eta \u001b[36m0:00:00\u001b[0m\n",
            "\u001b[?25hDownloading tensorflow_decision_forests-1.11.0-cp311-cp311-manylinux_2_17_x86_64.manylinux2014_x86_64.whl (15.9 MB)\n",
            "\u001b[2K   \u001b[90m━━━━━━━━━━━━━━━━━━━━━━━━━━━━━━━━━━━━━━━━\u001b[0m \u001b[32m15.9/15.9 MB\u001b[0m \u001b[31m71.4 MB/s\u001b[0m eta \u001b[36m0:00:00\u001b[0m\n",
            "\u001b[?25hDownloading wurlitzer-3.1.1-py3-none-any.whl (8.6 kB)\n",
            "Downloading ydf-0.10.0-cp311-cp311-manylinux_2_17_x86_64.manylinux2014_x86_64.whl (10.6 MB)\n",
            "\u001b[2K   \u001b[90m━━━━━━━━━━━━━━━━━━━━━━━━━━━━━━━━━━━━━━━━\u001b[0m \u001b[32m10.6/10.6 MB\u001b[0m \u001b[31m79.9 MB/s\u001b[0m eta \u001b[36m0:00:00\u001b[0m\n",
            "\u001b[?25hDownloading protobuf-5.29.3-cp38-abi3-manylinux2014_x86_64.whl (319 kB)\n",
            "\u001b[2K   \u001b[90m━━━━━━━━━━━━━━━━━━━━━━━━━━━━━━━━━━━━━━━━\u001b[0m \u001b[32m319.7/319.7 kB\u001b[0m \u001b[31m19.3 MB/s\u001b[0m eta \u001b[36m0:00:00\u001b[0m\n",
            "\u001b[?25hInstalling collected packages: wurlitzer, protobuf, packaging, ydf, tensorflow-decision-forests, tensorflowjs\n",
            "  Attempting uninstall: protobuf\n",
            "    Found existing installation: protobuf 4.25.6\n",
            "    Uninstalling protobuf-4.25.6:\n",
            "      Successfully uninstalled protobuf-4.25.6\n",
            "  Attempting uninstall: packaging\n",
            "    Found existing installation: packaging 24.2\n",
            "    Uninstalling packaging-24.2:\n",
            "      Successfully uninstalled packaging-24.2\n",
            "Successfully installed packaging-23.2 protobuf-5.29.3 tensorflow-decision-forests-1.11.0 tensorflowjs-4.22.0 wurlitzer-3.1.1 ydf-0.10.0\n",
            "2025-03-03 04:33:46.821504: E external/local_xla/xla/stream_executor/cuda/cuda_fft.cc:477] Unable to register cuFFT factory: Attempting to register factory for plugin cuFFT when one has already been registered\n",
            "WARNING: All log messages before absl::InitializeLog() is called are written to STDERR\n",
            "E0000 00:00:1740976426.855421   61623 cuda_dnn.cc:8310] Unable to register cuDNN factory: Attempting to register factory for plugin cuDNN when one has already been registered\n",
            "E0000 00:00:1740976426.870195   61623 cuda_blas.cc:1418] Unable to register cuBLAS factory: Attempting to register factory for plugin cuBLAS when one has already been registered\n",
            "\u001b[32m🌲 Try \u001b[0m\u001b[34mhttps://ydf.readthedocs.io\u001b[0m\u001b[32m, the successor of TensorFlow Decision Forests with more features and faster training!\u001b[0m\n",
            "2025-03-03 04:33:55.144013: E external/local_xla/xla/stream_executor/cuda/cuda_driver.cc:152] failed call to cuInit: INTERNAL: CUDA error: Failed call to cuInit: UNKNOWN ERROR (303)\n",
            "I0000 00:00:1740976437.312453   61623 devices.cc:67] Number of eligible GPUs (core count >= 8, compute capability >= 0.0): 0\n",
            "WARNING: All log messages before absl::InitializeLog() is called are written to STDERR\n",
            "I0000 00:00:1740976437.313002   61623 single_machine.cc:361] Starting new session\n"
          ]
        }
      ]
    },
    {
      "cell_type": "markdown",
      "metadata": {
        "id": "8DbfEwvvm5U4"
      },
      "source": [
        "## Inference (Optional)"
      ]
    },
    {
      "cell_type": "code",
      "execution_count": 58,
      "metadata": {
        "id": "ue5esMSSm8GQ",
        "colab": {
          "base_uri": "https://localhost:8080/"
        },
        "outputId": "5013263b-f90a-460e-a8c3-f7c996b9b025"
      },
      "outputs": [
        {
          "output_type": "stream",
          "name": "stdout",
          "text": [
            "Hasil prediksi: Arborio\n"
          ]
        }
      ],
      "source": [
        "# Load TFLite model\n",
        "interpreter = tflite.Interpreter(model_path=\"/content/tflite/model.tflite\")\n",
        "interpreter.allocate_tensors()\n",
        "\n",
        "# Dapatkan informasi input/output\n",
        "input_details = interpreter.get_input_details()\n",
        "output_details = interpreter.get_output_details()\n",
        "\n",
        "# Preprocess gambar input (resize ke ukuran model)\n",
        "def preprocess_image(image_path, input_size):\n",
        "    img = Image.open(image_path).convert(\"RGB\")\n",
        "    img = img.resize((input_size, input_size))\n",
        "    img = np.array(img, dtype=np.float32) / 255.0  # Normalisasi\n",
        "    img = np.expand_dims(img, axis=0)  # Tambah batch dimensi\n",
        "    return img\n",
        "\n",
        "# Load gambar uji\n",
        "image_path = \"/content/Arborio (10012).jpg\"\n",
        "input_size = input_details[0]['shape'][1]\n",
        "input_data = preprocess_image(image_path, input_size)\n",
        "\n",
        "# Masukkan gambar ke model\n",
        "interpreter.set_tensor(input_details[0]['index'], input_data)\n",
        "\n",
        "# Jalankan inference\n",
        "interpreter.invoke()\n",
        "\n",
        "# Daftar label sesuai urutan training\n",
        "class_labels = [\"Arborio\", \"Basmati\", \"Ipsala\", \"Jasmine\", \"Karacadag\"]\n",
        "\n",
        "# Ambil hasil prediksi\n",
        "predicted_class = np.argmax(output_data)\n",
        "predicted_label = class_labels[predicted_class]\n",
        "\n",
        "print(f\"Hasil prediksi: {predicted_label}\")"
      ]
    }
  ],
  "metadata": {
    "colab": {
      "provenance": []
    },
    "kernelspec": {
      "display_name": "Python 3",
      "name": "python3"
    },
    "language_info": {
      "name": "python"
    }
  },
  "nbformat": 4,
  "nbformat_minor": 0
}